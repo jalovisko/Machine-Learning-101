{
 "cells": [
  {
   "cell_type": "markdown",
   "metadata": {},
   "source": [
    "1. Acquiring, preprocessing, and analyzing the data"
   ]
  },
  {
   "cell_type": "markdown",
   "metadata": {},
   "source": [
    "Importing libraries that are necessary for the project:"
   ]
  },
  {
   "cell_type": "code",
   "execution_count": 16,
   "metadata": {},
   "outputs": [],
   "source": [
    "import pandas as pd #data Analysis\n",
    "import numpy as np  #scientific compution\n",
    "import seaborn as sns #statistical plotting"
   ]
  },
  {
   "cell_type": "markdown",
   "metadata": {},
   "source": [
    "IMPORT TRAIN DATA and TAKE A LOOK\n"
   ]
  },
  {
   "cell_type": "code",
   "execution_count": 2,
   "metadata": {},
   "outputs": [
    {
     "data": {
      "text/html": [
       "<div>\n",
       "<style scoped>\n",
       "    .dataframe tbody tr th:only-of-type {\n",
       "        vertical-align: middle;\n",
       "    }\n",
       "\n",
       "    .dataframe tbody tr th {\n",
       "        vertical-align: top;\n",
       "    }\n",
       "\n",
       "    .dataframe thead th {\n",
       "        text-align: right;\n",
       "    }\n",
       "</style>\n",
       "<table border=\"1\" class=\"dataframe\">\n",
       "  <thead>\n",
       "    <tr style=\"text-align: right;\">\n",
       "      <th></th>\n",
       "      <th>age</th>\n",
       "      <th>workclass</th>\n",
       "      <th>fnlwgt</th>\n",
       "      <th>education</th>\n",
       "      <th>education-num</th>\n",
       "      <th>marital-status</th>\n",
       "      <th>occupation</th>\n",
       "      <th>relationship</th>\n",
       "      <th>race</th>\n",
       "      <th>sex</th>\n",
       "      <th>capital-gain</th>\n",
       "      <th>capital-loss</th>\n",
       "      <th>hours-per-week</th>\n",
       "      <th>native-country</th>\n",
       "      <th>class</th>\n",
       "    </tr>\n",
       "  </thead>\n",
       "  <tbody>\n",
       "    <tr>\n",
       "      <td>0</td>\n",
       "      <td>39</td>\n",
       "      <td>State-gov</td>\n",
       "      <td>77516</td>\n",
       "      <td>Bachelors</td>\n",
       "      <td>13</td>\n",
       "      <td>Never-married</td>\n",
       "      <td>Adm-clerical</td>\n",
       "      <td>Not-in-family</td>\n",
       "      <td>White</td>\n",
       "      <td>Male</td>\n",
       "      <td>2174</td>\n",
       "      <td>0</td>\n",
       "      <td>40</td>\n",
       "      <td>United-States</td>\n",
       "      <td>&lt;=50K</td>\n",
       "    </tr>\n",
       "    <tr>\n",
       "      <td>1</td>\n",
       "      <td>50</td>\n",
       "      <td>Self-emp-not-inc</td>\n",
       "      <td>83311</td>\n",
       "      <td>Bachelors</td>\n",
       "      <td>13</td>\n",
       "      <td>Married-civ-spouse</td>\n",
       "      <td>Exec-managerial</td>\n",
       "      <td>Husband</td>\n",
       "      <td>White</td>\n",
       "      <td>Male</td>\n",
       "      <td>0</td>\n",
       "      <td>0</td>\n",
       "      <td>13</td>\n",
       "      <td>United-States</td>\n",
       "      <td>&lt;=50K</td>\n",
       "    </tr>\n",
       "    <tr>\n",
       "      <td>2</td>\n",
       "      <td>38</td>\n",
       "      <td>Private</td>\n",
       "      <td>215646</td>\n",
       "      <td>HS-grad</td>\n",
       "      <td>9</td>\n",
       "      <td>Divorced</td>\n",
       "      <td>Handlers-cleaners</td>\n",
       "      <td>Not-in-family</td>\n",
       "      <td>White</td>\n",
       "      <td>Male</td>\n",
       "      <td>0</td>\n",
       "      <td>0</td>\n",
       "      <td>40</td>\n",
       "      <td>United-States</td>\n",
       "      <td>&lt;=50K</td>\n",
       "    </tr>\n",
       "    <tr>\n",
       "      <td>3</td>\n",
       "      <td>53</td>\n",
       "      <td>Private</td>\n",
       "      <td>234721</td>\n",
       "      <td>11th</td>\n",
       "      <td>7</td>\n",
       "      <td>Married-civ-spouse</td>\n",
       "      <td>Handlers-cleaners</td>\n",
       "      <td>Husband</td>\n",
       "      <td>Black</td>\n",
       "      <td>Male</td>\n",
       "      <td>0</td>\n",
       "      <td>0</td>\n",
       "      <td>40</td>\n",
       "      <td>United-States</td>\n",
       "      <td>&lt;=50K</td>\n",
       "    </tr>\n",
       "    <tr>\n",
       "      <td>4</td>\n",
       "      <td>28</td>\n",
       "      <td>Private</td>\n",
       "      <td>338409</td>\n",
       "      <td>Bachelors</td>\n",
       "      <td>13</td>\n",
       "      <td>Married-civ-spouse</td>\n",
       "      <td>Prof-specialty</td>\n",
       "      <td>Wife</td>\n",
       "      <td>Black</td>\n",
       "      <td>Female</td>\n",
       "      <td>0</td>\n",
       "      <td>0</td>\n",
       "      <td>40</td>\n",
       "      <td>Cuba</td>\n",
       "      <td>&lt;=50K</td>\n",
       "    </tr>\n",
       "  </tbody>\n",
       "</table>\n",
       "</div>"
      ],
      "text/plain": [
       "   age          workclass  fnlwgt   education  education-num  \\\n",
       "0   39          State-gov   77516   Bachelors             13   \n",
       "1   50   Self-emp-not-inc   83311   Bachelors             13   \n",
       "2   38            Private  215646     HS-grad              9   \n",
       "3   53            Private  234721        11th              7   \n",
       "4   28            Private  338409   Bachelors             13   \n",
       "\n",
       "        marital-status          occupation    relationship    race      sex  \\\n",
       "0        Never-married        Adm-clerical   Not-in-family   White     Male   \n",
       "1   Married-civ-spouse     Exec-managerial         Husband   White     Male   \n",
       "2             Divorced   Handlers-cleaners   Not-in-family   White     Male   \n",
       "3   Married-civ-spouse   Handlers-cleaners         Husband   Black     Male   \n",
       "4   Married-civ-spouse      Prof-specialty            Wife   Black   Female   \n",
       "\n",
       "   capital-gain  capital-loss  hours-per-week  native-country   class  \n",
       "0          2174             0              40   United-States   <=50K  \n",
       "1             0             0              13   United-States   <=50K  \n",
       "2             0             0              40   United-States   <=50K  \n",
       "3             0             0              40   United-States   <=50K  \n",
       "4             0             0              40            Cuba   <=50K  "
      ]
     },
     "execution_count": 2,
     "metadata": {},
     "output_type": "execute_result"
    }
   ],
   "source": [
    "adult_data = pd.read_csv(\"https://archive.ics.uci.edu/ml/machine-learning-databases/adult/adult.data\" , names=['age','workclass','fnlwgt', 'education','education-num','marital-status','occupation','relationship','race','sex','capital-gain','capital-loss','hours-per-week','native-country','class'])\n",
    "adult_data.head()"
   ]
  },
  {
   "cell_type": "markdown",
   "metadata": {},
   "source": [
    "replace '?' values to nan and drop the instances with missing values"
   ]
  },
  {
   "cell_type": "code",
   "execution_count": 3,
   "metadata": {},
   "outputs": [],
   "source": [
    "non=[\" ?\", \"?\"]\n",
    "adult_data=adult_data.replace(non, np.nan)  #replace '?' values to nan\n",
    "adult_data.dropna(inplace=True) #remove instances with missing or malformed features"
   ]
  },
  {
   "cell_type": "markdown",
   "metadata": {},
   "source": [
    "Analyzing Data by creating some plots"
   ]
  },
  {
   "cell_type": "markdown",
   "metadata": {},
   "source": [
    "First for categorized Data"
   ]
  },
  {
   "cell_type": "code",
   "execution_count": 4,
   "metadata": {},
   "outputs": [
    {
     "data": {
      "text/plain": [
       "<matplotlib.axes._subplots.AxesSubplot at 0xc43ff4b708>"
      ]
     },
     "execution_count": 4,
     "metadata": {},
     "output_type": "execute_result"
    },
    {
     "data": {
      "image/png": "[encoded data removed]",
      "text/plain": [
       "<Figure size 432x288 with 1 Axes>"
      ]
     },
     "metadata": {
      "needs_background": "light"
     },
     "output_type": "display_data"
    }
   ],
   "source": [
    "sns.countplot(x=\"class\" , data = adult_data)"
   ]
  },
  {
   "cell_type": "markdown",
   "metadata": {},
   "source": [
    "In comparison with Class"
   ]
  },
  {
   "cell_type": "code",
   "execution_count": 6,
   "metadata": {},
   "outputs": [
    {
     "data": {
      "text/plain": [
       "<matplotlib.axes._subplots.AxesSubplot at 0xc441ef5a48>"
      ]
     },
     "execution_count": 6,
     "metadata": {},
     "output_type": "execute_result"
    },
    {
     "data": {
      "image/png": "[encoded data removed]",
      "text/plain": [
       "<Figure size 432x288 with 1 Axes>"
      ]
     },
     "metadata": {
      "needs_background": "light"
     },
     "output_type": "display_data"
    }
   ],
   "source": [
    "sns.countplot(x=\"class\" , hue=\"sex\",  data = adult_data)"
   ]
  },
  {
   "cell_type": "code",
   "execution_count": 7,
   "metadata": {},
   "outputs": [
    {
     "data": {
      "text/plain": [
       "<matplotlib.axes._subplots.AxesSubplot at 0xc441f40608>"
      ]
     },
     "execution_count": 7,
     "metadata": {},
     "output_type": "execute_result"
    },
    {
     "data": {
      "image/png": "[encoded data removed]",
      "text/plain": [
       "<Figure size 432x288 with 1 Axes>"
      ]
     },
     "metadata": {
      "needs_background": "light"
     },
     "output_type": "display_data"
    }
   ],
   "source": [
    "sns.countplot(x=\"class\" , hue=\"race\", data=adult_data)"
   ]
  },
  {
   "cell_type": "code",
   "execution_count": 8,
   "metadata": {},
   "outputs": [
    {
     "data": {
      "text/plain": [
       "<matplotlib.axes._subplots.AxesSubplot at 0xc4427fd408>"
      ]
     },
     "execution_count": 8,
     "metadata": {},
     "output_type": "execute_result"
    },
    {
     "data": {
      "image/png": "[encoded data removed]",
      "text/plain": [
       "<Figure size 432x288 with 1 Axes>"
      ]
     },
     "metadata": {
      "needs_background": "light"
     },
     "output_type": "display_data"
    }
   ],
   "source": [
    "sns.countplot(x=\"class\" , hue=\"marital-status\", data=adult_data)"
   ]
  },
  {
   "cell_type": "code",
   "execution_count": 9,
   "metadata": {},
   "outputs": [
    {
     "data": {
      "text/plain": [
       "<matplotlib.axes._subplots.AxesSubplot at 0xc442887188>"
      ]
     },
     "execution_count": 9,
     "metadata": {},
     "output_type": "execute_result"
    },
    {
     "data": {
      "image/png": "[encoded data removed]",
      "text/plain": [
       "<Figure size 432x288 with 1 Axes>"
      ]
     },
     "metadata": {
      "needs_background": "light"
     },
     "output_type": "display_data"
    }
   ],
   "source": [
    "sns.countplot(x=\"class\" , hue=\"native-country\", data=adult_data)\n"
   ]
  },
  {
   "cell_type": "markdown",
   "metadata": {},
   "source": [
    "Alone"
   ]
  },
  {
   "cell_type": "code",
   "execution_count": 10,
   "metadata": {},
   "outputs": [
    {
     "data": {
      "text/plain": [
       "<matplotlib.axes._subplots.AxesSubplot at 0xc4411617c8>"
      ]
     },
     "execution_count": 10,
     "metadata": {},
     "output_type": "execute_result"
    },
    {
     "data": {
      "image/png": "[encoded data removed]",
      "text/plain": [
       "<Figure size 432x288 with 1 Axes>"
      ]
     },
     "metadata": {
      "needs_background": "light"
     },
     "output_type": "display_data"
    }
   ],
   "source": [
    "sns.countplot(x=\"sex\",  data = adult_data)"
   ]
  },
  {
   "cell_type": "code",
   "execution_count": 11,
   "metadata": {},
   "outputs": [
    {
     "data": {
      "text/plain": [
       "<matplotlib.axes._subplots.AxesSubplot at 0xc43b106e48>"
      ]
     },
     "execution_count": 11,
     "metadata": {},
     "output_type": "execute_result"
    },
    {
     "data": {
      "image/png": "[encoded data removed]",
      "text/plain": [
       "<Figure size 432x288 with 1 Axes>"
      ]
     },
     "metadata": {
      "needs_background": "light"
     },
     "output_type": "display_data"
    }
   ],
   "source": [
    "sns.countplot(x=\"marital-status\", data=adult_data)\n"
   ]
  },
  {
   "cell_type": "code",
   "execution_count": 13,
   "metadata": {},
   "outputs": [
    {
     "data": {
      "text/plain": [
       "<matplotlib.axes._subplots.AxesSubplot at 0xc43f90d908>"
      ]
     },
     "execution_count": 13,
     "metadata": {},
     "output_type": "execute_result"
    },
    {
     "data": {
      "image/png": "[encoded data removed]",
      "text/plain": [
       "<Figure size 432x288 with 1 Axes>"
      ]
     },
     "metadata": {
      "needs_background": "light"
     },
     "output_type": "display_data"
    }
   ],
   "source": [
    "sns.countplot(x=\"native-country\", data=adult_data)      \n"
   ]
  },
  {
   "cell_type": "markdown",
   "metadata": {},
   "source": [
    "We see ~99% are from US so we can drop this feature"
   ]
  },
  {
   "cell_type": "code",
   "execution_count": 15,
   "metadata": {},
   "outputs": [
    {
     "ename": "KeyError",
     "evalue": "\"['native-country'] not found in axis\"",
     "output_type": "error",
     "traceback": [
      "\u001b[1;31m---------------------------------------------------------------------------\u001b[0m",
      "\u001b[1;31mKeyError\u001b[0m                                  Traceback (most recent call last)",
      "\u001b[1;32m<ipython-input-15-c092e53fe089>\u001b[0m in \u001b[0;36m<module>\u001b[1;34m\u001b[0m\n\u001b[1;32m----> 1\u001b[1;33m \u001b[0madult_data\u001b[0m\u001b[1;33m=\u001b[0m\u001b[0madult_data\u001b[0m\u001b[1;33m.\u001b[0m\u001b[0mdrop\u001b[0m\u001b[1;33m(\u001b[0m\u001b[1;34m\"native-country\"\u001b[0m \u001b[1;33m,\u001b[0m \u001b[0maxis\u001b[0m\u001b[1;33m=\u001b[0m\u001b[1;36m1\u001b[0m\u001b[1;33m)\u001b[0m\u001b[1;33m\u001b[0m\u001b[1;33m\u001b[0m\u001b[0m\n\u001b[0m",
      "\u001b[1;32m~\\Anaconda3\\lib\\site-packages\\pandas\\core\\frame.py\u001b[0m in \u001b[0;36mdrop\u001b[1;34m(self, labels, axis, index, columns, level, inplace, errors)\u001b[0m\n\u001b[0;32m   4100\u001b[0m             \u001b[0mlevel\u001b[0m\u001b[1;33m=\u001b[0m\u001b[0mlevel\u001b[0m\u001b[1;33m,\u001b[0m\u001b[1;33m\u001b[0m\u001b[1;33m\u001b[0m\u001b[0m\n\u001b[0;32m   4101\u001b[0m             \u001b[0minplace\u001b[0m\u001b[1;33m=\u001b[0m\u001b[0minplace\u001b[0m\u001b[1;33m,\u001b[0m\u001b[1;33m\u001b[0m\u001b[1;33m\u001b[0m\u001b[0m\n\u001b[1;32m-> 4102\u001b[1;33m             \u001b[0merrors\u001b[0m\u001b[1;33m=\u001b[0m\u001b[0merrors\u001b[0m\u001b[1;33m,\u001b[0m\u001b[1;33m\u001b[0m\u001b[1;33m\u001b[0m\u001b[0m\n\u001b[0m\u001b[0;32m   4103\u001b[0m         )\n\u001b[0;32m   4104\u001b[0m \u001b[1;33m\u001b[0m\u001b[0m\n",
      "\u001b[1;32m~\\Anaconda3\\lib\\site-packages\\pandas\\core\\generic.py\u001b[0m in \u001b[0;36mdrop\u001b[1;34m(self, labels, axis, index, columns, level, inplace, errors)\u001b[0m\n\u001b[0;32m   3912\u001b[0m         \u001b[1;32mfor\u001b[0m \u001b[0maxis\u001b[0m\u001b[1;33m,\u001b[0m \u001b[0mlabels\u001b[0m \u001b[1;32min\u001b[0m \u001b[0maxes\u001b[0m\u001b[1;33m.\u001b[0m\u001b[0mitems\u001b[0m\u001b[1;33m(\u001b[0m\u001b[1;33m)\u001b[0m\u001b[1;33m:\u001b[0m\u001b[1;33m\u001b[0m\u001b[1;33m\u001b[0m\u001b[0m\n\u001b[0;32m   3913\u001b[0m             \u001b[1;32mif\u001b[0m \u001b[0mlabels\u001b[0m \u001b[1;32mis\u001b[0m \u001b[1;32mnot\u001b[0m \u001b[1;32mNone\u001b[0m\u001b[1;33m:\u001b[0m\u001b[1;33m\u001b[0m\u001b[1;33m\u001b[0m\u001b[0m\n\u001b[1;32m-> 3914\u001b[1;33m                 \u001b[0mobj\u001b[0m \u001b[1;33m=\u001b[0m \u001b[0mobj\u001b[0m\u001b[1;33m.\u001b[0m\u001b[0m_drop_axis\u001b[0m\u001b[1;33m(\u001b[0m\u001b[0mlabels\u001b[0m\u001b[1;33m,\u001b[0m \u001b[0maxis\u001b[0m\u001b[1;33m,\u001b[0m \u001b[0mlevel\u001b[0m\u001b[1;33m=\u001b[0m\u001b[0mlevel\u001b[0m\u001b[1;33m,\u001b[0m \u001b[0merrors\u001b[0m\u001b[1;33m=\u001b[0m\u001b[0merrors\u001b[0m\u001b[1;33m)\u001b[0m\u001b[1;33m\u001b[0m\u001b[1;33m\u001b[0m\u001b[0m\n\u001b[0m\u001b[0;32m   3915\u001b[0m \u001b[1;33m\u001b[0m\u001b[0m\n\u001b[0;32m   3916\u001b[0m         \u001b[1;32mif\u001b[0m \u001b[0minplace\u001b[0m\u001b[1;33m:\u001b[0m\u001b[1;33m\u001b[0m\u001b[1;33m\u001b[0m\u001b[0m\n",
      "\u001b[1;32m~\\Anaconda3\\lib\\site-packages\\pandas\\core\\generic.py\u001b[0m in \u001b[0;36m_drop_axis\u001b[1;34m(self, labels, axis, level, errors)\u001b[0m\n\u001b[0;32m   3944\u001b[0m                 \u001b[0mnew_axis\u001b[0m \u001b[1;33m=\u001b[0m \u001b[0maxis\u001b[0m\u001b[1;33m.\u001b[0m\u001b[0mdrop\u001b[0m\u001b[1;33m(\u001b[0m\u001b[0mlabels\u001b[0m\u001b[1;33m,\u001b[0m \u001b[0mlevel\u001b[0m\u001b[1;33m=\u001b[0m\u001b[0mlevel\u001b[0m\u001b[1;33m,\u001b[0m \u001b[0merrors\u001b[0m\u001b[1;33m=\u001b[0m\u001b[0merrors\u001b[0m\u001b[1;33m)\u001b[0m\u001b[1;33m\u001b[0m\u001b[1;33m\u001b[0m\u001b[0m\n\u001b[0;32m   3945\u001b[0m             \u001b[1;32melse\u001b[0m\u001b[1;33m:\u001b[0m\u001b[1;33m\u001b[0m\u001b[1;33m\u001b[0m\u001b[0m\n\u001b[1;32m-> 3946\u001b[1;33m                 \u001b[0mnew_axis\u001b[0m \u001b[1;33m=\u001b[0m \u001b[0maxis\u001b[0m\u001b[1;33m.\u001b[0m\u001b[0mdrop\u001b[0m\u001b[1;33m(\u001b[0m\u001b[0mlabels\u001b[0m\u001b[1;33m,\u001b[0m \u001b[0merrors\u001b[0m\u001b[1;33m=\u001b[0m\u001b[0merrors\u001b[0m\u001b[1;33m)\u001b[0m\u001b[1;33m\u001b[0m\u001b[1;33m\u001b[0m\u001b[0m\n\u001b[0m\u001b[0;32m   3947\u001b[0m             \u001b[0mresult\u001b[0m \u001b[1;33m=\u001b[0m \u001b[0mself\u001b[0m\u001b[1;33m.\u001b[0m\u001b[0mreindex\u001b[0m\u001b[1;33m(\u001b[0m\u001b[1;33m**\u001b[0m\u001b[1;33m{\u001b[0m\u001b[0maxis_name\u001b[0m\u001b[1;33m:\u001b[0m \u001b[0mnew_axis\u001b[0m\u001b[1;33m}\u001b[0m\u001b[1;33m)\u001b[0m\u001b[1;33m\u001b[0m\u001b[1;33m\u001b[0m\u001b[0m\n\u001b[0;32m   3948\u001b[0m \u001b[1;33m\u001b[0m\u001b[0m\n",
      "\u001b[1;32m~\\Anaconda3\\lib\\site-packages\\pandas\\core\\indexes\\base.py\u001b[0m in \u001b[0;36mdrop\u001b[1;34m(self, labels, errors)\u001b[0m\n\u001b[0;32m   5338\u001b[0m         \u001b[1;32mif\u001b[0m \u001b[0mmask\u001b[0m\u001b[1;33m.\u001b[0m\u001b[0many\u001b[0m\u001b[1;33m(\u001b[0m\u001b[1;33m)\u001b[0m\u001b[1;33m:\u001b[0m\u001b[1;33m\u001b[0m\u001b[1;33m\u001b[0m\u001b[0m\n\u001b[0;32m   5339\u001b[0m             \u001b[1;32mif\u001b[0m \u001b[0merrors\u001b[0m \u001b[1;33m!=\u001b[0m \u001b[1;34m\"ignore\"\u001b[0m\u001b[1;33m:\u001b[0m\u001b[1;33m\u001b[0m\u001b[1;33m\u001b[0m\u001b[0m\n\u001b[1;32m-> 5340\u001b[1;33m                 \u001b[1;32mraise\u001b[0m \u001b[0mKeyError\u001b[0m\u001b[1;33m(\u001b[0m\u001b[1;34m\"{} not found in axis\"\u001b[0m\u001b[1;33m.\u001b[0m\u001b[0mformat\u001b[0m\u001b[1;33m(\u001b[0m\u001b[0mlabels\u001b[0m\u001b[1;33m[\u001b[0m\u001b[0mmask\u001b[0m\u001b[1;33m]\u001b[0m\u001b[1;33m)\u001b[0m\u001b[1;33m)\u001b[0m\u001b[1;33m\u001b[0m\u001b[1;33m\u001b[0m\u001b[0m\n\u001b[0m\u001b[0;32m   5341\u001b[0m             \u001b[0mindexer\u001b[0m \u001b[1;33m=\u001b[0m \u001b[0mindexer\u001b[0m\u001b[1;33m[\u001b[0m\u001b[1;33m~\u001b[0m\u001b[0mmask\u001b[0m\u001b[1;33m]\u001b[0m\u001b[1;33m\u001b[0m\u001b[1;33m\u001b[0m\u001b[0m\n\u001b[0;32m   5342\u001b[0m         \u001b[1;32mreturn\u001b[0m \u001b[0mself\u001b[0m\u001b[1;33m.\u001b[0m\u001b[0mdelete\u001b[0m\u001b[1;33m(\u001b[0m\u001b[0mindexer\u001b[0m\u001b[1;33m)\u001b[0m\u001b[1;33m\u001b[0m\u001b[1;33m\u001b[0m\u001b[0m\n",
      "\u001b[1;31mKeyError\u001b[0m: \"['native-country'] not found in axis\""
     ]
    }
   ],
   "source": [
    "adult_data=adult_data.drop(\"native-country\" , axis=1) \n"
   ]
  },
  {
   "cell_type": "markdown",
   "metadata": {},
   "source": [
    "For Continues Features"
   ]
  },
  {
   "cell_type": "code",
   "execution_count": 17,
   "metadata": {},
   "outputs": [
    {
     "data": {
      "text/plain": [
       "<matplotlib.axes._subplots.AxesSubplot at 0xc44199d308>"
      ]
     },
     "execution_count": 17,
     "metadata": {},
     "output_type": "execute_result"
    },
    {
     "data": {
      "image/png": "[encoded data removed]",
      "text/plain": [
       "<Figure size 432x288 with 1 Axes>"
      ]
     },
     "metadata": {
      "needs_background": "light"
     },
     "output_type": "display_data"
    }
   ],
   "source": [
    "adult_data[\"age\"].plot.hist()\n"
   ]
  },
  {
   "cell_type": "code",
   "execution_count": 18,
   "metadata": {},
   "outputs": [
    {
     "data": {
      "text/plain": [
       "<matplotlib.axes._subplots.AxesSubplot at 0xc441a29848>"
      ]
     },
     "execution_count": 18,
     "metadata": {},
     "output_type": "execute_result"
    },
    {
     "data": {
      "image/png": "[encoded data removed]",
      "text/plain": [
       "<Figure size 432x288 with 1 Axes>"
      ]
     },
     "metadata": {
      "needs_background": "light"
     },
     "output_type": "display_data"
    }
   ],
   "source": [
    "adult_data[\"capital-gain\"].plot.hist()\n"
   ]
  },
  {
   "cell_type": "code",
   "execution_count": 19,
   "metadata": {
    "scrolled": true
   },
   "outputs": [
    {
     "data": {
      "text/plain": [
       "<matplotlib.axes._subplots.AxesSubplot at 0xc441aa8d08>"
      ]
     },
     "execution_count": 19,
     "metadata": {},
     "output_type": "execute_result"
    },
    {
     "data": {
      "image/png": "[encoded data removed]",
      "text/plain": [
       "<Figure size 432x288 with 1 Axes>"
      ]
     },
     "metadata": {
      "needs_background": "light"
     },
     "output_type": "display_data"
    }
   ],
   "source": [
    "adult_data[\"capital-loss\"].plot.hist()\n"
   ]
  },
  {
   "cell_type": "markdown",
   "metadata": {},
   "source": [
    "'capital-gain' and 'capital-loss' seems to show just one number most of the times"
   ]
  },
  {
   "cell_type": "code",
   "execution_count": 22,
   "metadata": {},
   "outputs": [
    {
     "data": {
      "text/plain": [
       "capital-gain    0.999161\n",
       "capital-loss     0.98922\n",
       "dtype: object"
      ]
     },
     "execution_count": 22,
     "metadata": {},
     "output_type": "execute_result"
    }
   ],
   "source": [
    "adult_data.isin([0]).sum()[10:12] \n",
    "(adult_data.sum()[10:12]-adult_data.isin([0]).sum()[10:12])/(adult_data.sum()[10:12]) "
   ]
  },
  {
   "cell_type": "markdown",
   "metadata": {},
   "source": [
    "As we see, near %90 they show '0'. So we can drop them."
   ]
  },
  {
   "cell_type": "code",
   "execution_count": 23,
   "metadata": {},
   "outputs": [],
   "source": [
    "adult_data=adult_data.drop(\"capital-gain\", axis=1)\n",
    "adult_data=adult_data.drop(\"capital-loss\"  , axis=1)"
   ]
  },
  {
   "cell_type": "markdown",
   "metadata": {},
   "source": [
    "We use One-hot encoding for categorical features"
   ]
  },
  {
   "cell_type": "code",
   "execution_count": 24,
   "metadata": {},
   "outputs": [],
   "source": [
    "sex=pd.get_dummies(adult_data['sex'], drop_first=True)\n",
    "races=pd.get_dummies(adult_data['race'], drop_first=True)\n",
    "relation=pd.get_dummies(adult_data['relationship'], drop_first=True)\n",
    "workclass=pd.get_dummies(adult_data['workclass'], drop_first=True)\n",
    "education=pd.get_dummies(adult_data['education'], drop_first=True)\n",
    "occupation=pd.get_dummies(adult_data['occupation'], drop_first=True)\n",
    "marital=pd.get_dummies(adult_data['marital-status'], drop_first=True)\n",
    "income=pd.get_dummies(adult_data['class'], drop_first=True)\n",
    "\n",
    "adult_data=pd.concat([adult_data,sex,races,relation,workclass,education,occupation,marital,income], axis=1 )\n",
    "adult_data=adult_data.drop(['sex','race','relationship','workclass','education','occupation','marital-status','class'], axis=1)\n"
   ]
  },
  {
   "cell_type": "markdown",
   "metadata": {},
   "source": [
    "Now we can take a look at them:"
   ]
  },
  {
   "cell_type": "code",
   "execution_count": 26,
   "metadata": {},
   "outputs": [
    {
     "data": {
      "text/html": [
       "<div>\n",
       "<style scoped>\n",
       "    .dataframe tbody tr th:only-of-type {\n",
       "        vertical-align: middle;\n",
       "    }\n",
       "\n",
       "    .dataframe tbody tr th {\n",
       "        vertical-align: top;\n",
       "    }\n",
       "\n",
       "    .dataframe thead th {\n",
       "        text-align: right;\n",
       "    }\n",
       "</style>\n",
       "<table border=\"1\" class=\"dataframe\">\n",
       "  <thead>\n",
       "    <tr style=\"text-align: right;\">\n",
       "      <th></th>\n",
       "      <th>age</th>\n",
       "      <th>fnlwgt</th>\n",
       "      <th>education-num</th>\n",
       "      <th>hours-per-week</th>\n",
       "      <th>Male</th>\n",
       "      <th>Asian-Pac-Islander</th>\n",
       "      <th>Black</th>\n",
       "      <th>Other</th>\n",
       "      <th>White</th>\n",
       "      <th>Not-in-family</th>\n",
       "      <th>...</th>\n",
       "      <th>Sales</th>\n",
       "      <th>Tech-support</th>\n",
       "      <th>Transport-moving</th>\n",
       "      <th>Married-AF-spouse</th>\n",
       "      <th>Married-civ-spouse</th>\n",
       "      <th>Married-spouse-absent</th>\n",
       "      <th>Never-married</th>\n",
       "      <th>Separated</th>\n",
       "      <th>Widowed</th>\n",
       "      <th>&gt;50K</th>\n",
       "    </tr>\n",
       "  </thead>\n",
       "  <tbody>\n",
       "    <tr>\n",
       "      <td>0</td>\n",
       "      <td>39</td>\n",
       "      <td>77516</td>\n",
       "      <td>13</td>\n",
       "      <td>40</td>\n",
       "      <td>1</td>\n",
       "      <td>0</td>\n",
       "      <td>0</td>\n",
       "      <td>0</td>\n",
       "      <td>1</td>\n",
       "      <td>1</td>\n",
       "      <td>...</td>\n",
       "      <td>0</td>\n",
       "      <td>0</td>\n",
       "      <td>0</td>\n",
       "      <td>0</td>\n",
       "      <td>0</td>\n",
       "      <td>0</td>\n",
       "      <td>1</td>\n",
       "      <td>0</td>\n",
       "      <td>0</td>\n",
       "      <td>0</td>\n",
       "    </tr>\n",
       "    <tr>\n",
       "      <td>1</td>\n",
       "      <td>50</td>\n",
       "      <td>83311</td>\n",
       "      <td>13</td>\n",
       "      <td>13</td>\n",
       "      <td>1</td>\n",
       "      <td>0</td>\n",
       "      <td>0</td>\n",
       "      <td>0</td>\n",
       "      <td>1</td>\n",
       "      <td>0</td>\n",
       "      <td>...</td>\n",
       "      <td>0</td>\n",
       "      <td>0</td>\n",
       "      <td>0</td>\n",
       "      <td>0</td>\n",
       "      <td>1</td>\n",
       "      <td>0</td>\n",
       "      <td>0</td>\n",
       "      <td>0</td>\n",
       "      <td>0</td>\n",
       "      <td>0</td>\n",
       "    </tr>\n",
       "    <tr>\n",
       "      <td>2</td>\n",
       "      <td>38</td>\n",
       "      <td>215646</td>\n",
       "      <td>9</td>\n",
       "      <td>40</td>\n",
       "      <td>1</td>\n",
       "      <td>0</td>\n",
       "      <td>0</td>\n",
       "      <td>0</td>\n",
       "      <td>1</td>\n",
       "      <td>1</td>\n",
       "      <td>...</td>\n",
       "      <td>0</td>\n",
       "      <td>0</td>\n",
       "      <td>0</td>\n",
       "      <td>0</td>\n",
       "      <td>0</td>\n",
       "      <td>0</td>\n",
       "      <td>0</td>\n",
       "      <td>0</td>\n",
       "      <td>0</td>\n",
       "      <td>0</td>\n",
       "    </tr>\n",
       "    <tr>\n",
       "      <td>3</td>\n",
       "      <td>53</td>\n",
       "      <td>234721</td>\n",
       "      <td>7</td>\n",
       "      <td>40</td>\n",
       "      <td>1</td>\n",
       "      <td>0</td>\n",
       "      <td>1</td>\n",
       "      <td>0</td>\n",
       "      <td>0</td>\n",
       "      <td>0</td>\n",
       "      <td>...</td>\n",
       "      <td>0</td>\n",
       "      <td>0</td>\n",
       "      <td>0</td>\n",
       "      <td>0</td>\n",
       "      <td>1</td>\n",
       "      <td>0</td>\n",
       "      <td>0</td>\n",
       "      <td>0</td>\n",
       "      <td>0</td>\n",
       "      <td>0</td>\n",
       "    </tr>\n",
       "    <tr>\n",
       "      <td>4</td>\n",
       "      <td>28</td>\n",
       "      <td>338409</td>\n",
       "      <td>13</td>\n",
       "      <td>40</td>\n",
       "      <td>0</td>\n",
       "      <td>0</td>\n",
       "      <td>1</td>\n",
       "      <td>0</td>\n",
       "      <td>0</td>\n",
       "      <td>0</td>\n",
       "      <td>...</td>\n",
       "      <td>0</td>\n",
       "      <td>0</td>\n",
       "      <td>0</td>\n",
       "      <td>0</td>\n",
       "      <td>1</td>\n",
       "      <td>0</td>\n",
       "      <td>0</td>\n",
       "      <td>0</td>\n",
       "      <td>0</td>\n",
       "      <td>0</td>\n",
       "    </tr>\n",
       "  </tbody>\n",
       "</table>\n",
       "<p>5 rows × 55 columns</p>\n",
       "</div>"
      ],
      "text/plain": [
       "   age  fnlwgt  education-num  hours-per-week   Male   Asian-Pac-Islander  \\\n",
       "0   39   77516             13              40      1                    0   \n",
       "1   50   83311             13              13      1                    0   \n",
       "2   38  215646              9              40      1                    0   \n",
       "3   53  234721              7              40      1                    0   \n",
       "4   28  338409             13              40      0                    0   \n",
       "\n",
       "    Black   Other   White   Not-in-family  ...   Sales   Tech-support  \\\n",
       "0       0       0       1               1  ...       0              0   \n",
       "1       0       0       1               0  ...       0              0   \n",
       "2       0       0       1               1  ...       0              0   \n",
       "3       1       0       0               0  ...       0              0   \n",
       "4       1       0       0               0  ...       0              0   \n",
       "\n",
       "    Transport-moving   Married-AF-spouse   Married-civ-spouse  \\\n",
       "0                  0                   0                    0   \n",
       "1                  0                   0                    1   \n",
       "2                  0                   0                    0   \n",
       "3                  0                   0                    1   \n",
       "4                  0                   0                    1   \n",
       "\n",
       "    Married-spouse-absent   Never-married   Separated   Widowed   >50K  \n",
       "0                       0               1           0         0      0  \n",
       "1                       0               0           0         0      0  \n",
       "2                       0               0           0         0      0  \n",
       "3                       0               0           0         0      0  \n",
       "4                       0               0           0         0      0  \n",
       "\n",
       "[5 rows x 55 columns]"
      ]
     },
     "execution_count": 26,
     "metadata": {},
     "output_type": "execute_result"
    }
   ],
   "source": [
    "adult_data.head()"
   ]
  },
  {
   "cell_type": "markdown",
   "metadata": {},
   "source": [
    "We use Feature_scaling and then take a look at data:"
   ]
  },
  {
   "cell_type": "code",
   "execution_count": 27,
   "metadata": {},
   "outputs": [
    {
     "data": {
      "text/html": [
       "<div>\n",
       "<style scoped>\n",
       "    .dataframe tbody tr th:only-of-type {\n",
       "        vertical-align: middle;\n",
       "    }\n",
       "\n",
       "    .dataframe tbody tr th {\n",
       "        vertical-align: top;\n",
       "    }\n",
       "\n",
       "    .dataframe thead th {\n",
       "        text-align: right;\n",
       "    }\n",
       "</style>\n",
       "<table border=\"1\" class=\"dataframe\">\n",
       "  <thead>\n",
       "    <tr style=\"text-align: right;\">\n",
       "      <th></th>\n",
       "      <th>age</th>\n",
       "      <th>fnlwgt</th>\n",
       "      <th>education-num</th>\n",
       "      <th>hours-per-week</th>\n",
       "      <th>Male</th>\n",
       "      <th>Asian-Pac-Islander</th>\n",
       "      <th>Black</th>\n",
       "      <th>Other</th>\n",
       "      <th>White</th>\n",
       "      <th>Not-in-family</th>\n",
       "      <th>...</th>\n",
       "      <th>Sales</th>\n",
       "      <th>Tech-support</th>\n",
       "      <th>Transport-moving</th>\n",
       "      <th>Married-AF-spouse</th>\n",
       "      <th>Married-civ-spouse</th>\n",
       "      <th>Married-spouse-absent</th>\n",
       "      <th>Never-married</th>\n",
       "      <th>Separated</th>\n",
       "      <th>Widowed</th>\n",
       "      <th>&gt;50K</th>\n",
       "    </tr>\n",
       "  </thead>\n",
       "  <tbody>\n",
       "    <tr>\n",
       "      <td>0</td>\n",
       "      <td>0.301370</td>\n",
       "      <td>0.043338</td>\n",
       "      <td>0.800000</td>\n",
       "      <td>0.397959</td>\n",
       "      <td>1</td>\n",
       "      <td>0</td>\n",
       "      <td>0</td>\n",
       "      <td>0</td>\n",
       "      <td>1</td>\n",
       "      <td>1</td>\n",
       "      <td>...</td>\n",
       "      <td>0</td>\n",
       "      <td>0</td>\n",
       "      <td>0</td>\n",
       "      <td>0</td>\n",
       "      <td>0</td>\n",
       "      <td>0</td>\n",
       "      <td>1</td>\n",
       "      <td>0</td>\n",
       "      <td>0</td>\n",
       "      <td>0</td>\n",
       "    </tr>\n",
       "    <tr>\n",
       "      <td>1</td>\n",
       "      <td>0.452055</td>\n",
       "      <td>0.047277</td>\n",
       "      <td>0.800000</td>\n",
       "      <td>0.122449</td>\n",
       "      <td>1</td>\n",
       "      <td>0</td>\n",
       "      <td>0</td>\n",
       "      <td>0</td>\n",
       "      <td>1</td>\n",
       "      <td>0</td>\n",
       "      <td>...</td>\n",
       "      <td>0</td>\n",
       "      <td>0</td>\n",
       "      <td>0</td>\n",
       "      <td>0</td>\n",
       "      <td>1</td>\n",
       "      <td>0</td>\n",
       "      <td>0</td>\n",
       "      <td>0</td>\n",
       "      <td>0</td>\n",
       "      <td>0</td>\n",
       "    </tr>\n",
       "    <tr>\n",
       "      <td>2</td>\n",
       "      <td>0.287671</td>\n",
       "      <td>0.137244</td>\n",
       "      <td>0.533333</td>\n",
       "      <td>0.397959</td>\n",
       "      <td>1</td>\n",
       "      <td>0</td>\n",
       "      <td>0</td>\n",
       "      <td>0</td>\n",
       "      <td>1</td>\n",
       "      <td>1</td>\n",
       "      <td>...</td>\n",
       "      <td>0</td>\n",
       "      <td>0</td>\n",
       "      <td>0</td>\n",
       "      <td>0</td>\n",
       "      <td>0</td>\n",
       "      <td>0</td>\n",
       "      <td>0</td>\n",
       "      <td>0</td>\n",
       "      <td>0</td>\n",
       "      <td>0</td>\n",
       "    </tr>\n",
       "    <tr>\n",
       "      <td>3</td>\n",
       "      <td>0.493151</td>\n",
       "      <td>0.150212</td>\n",
       "      <td>0.400000</td>\n",
       "      <td>0.397959</td>\n",
       "      <td>1</td>\n",
       "      <td>0</td>\n",
       "      <td>1</td>\n",
       "      <td>0</td>\n",
       "      <td>0</td>\n",
       "      <td>0</td>\n",
       "      <td>...</td>\n",
       "      <td>0</td>\n",
       "      <td>0</td>\n",
       "      <td>0</td>\n",
       "      <td>0</td>\n",
       "      <td>1</td>\n",
       "      <td>0</td>\n",
       "      <td>0</td>\n",
       "      <td>0</td>\n",
       "      <td>0</td>\n",
       "      <td>0</td>\n",
       "    </tr>\n",
       "    <tr>\n",
       "      <td>4</td>\n",
       "      <td>0.150685</td>\n",
       "      <td>0.220703</td>\n",
       "      <td>0.800000</td>\n",
       "      <td>0.397959</td>\n",
       "      <td>0</td>\n",
       "      <td>0</td>\n",
       "      <td>1</td>\n",
       "      <td>0</td>\n",
       "      <td>0</td>\n",
       "      <td>0</td>\n",
       "      <td>...</td>\n",
       "      <td>0</td>\n",
       "      <td>0</td>\n",
       "      <td>0</td>\n",
       "      <td>0</td>\n",
       "      <td>1</td>\n",
       "      <td>0</td>\n",
       "      <td>0</td>\n",
       "      <td>0</td>\n",
       "      <td>0</td>\n",
       "      <td>0</td>\n",
       "    </tr>\n",
       "  </tbody>\n",
       "</table>\n",
       "<p>5 rows × 55 columns</p>\n",
       "</div>"
      ],
      "text/plain": [
       "        age    fnlwgt  education-num  hours-per-week   Male  \\\n",
       "0  0.301370  0.043338       0.800000        0.397959      1   \n",
       "1  0.452055  0.047277       0.800000        0.122449      1   \n",
       "2  0.287671  0.137244       0.533333        0.397959      1   \n",
       "3  0.493151  0.150212       0.400000        0.397959      1   \n",
       "4  0.150685  0.220703       0.800000        0.397959      0   \n",
       "\n",
       "    Asian-Pac-Islander   Black   Other   White   Not-in-family  ...   Sales  \\\n",
       "0                    0       0       0       1               1  ...       0   \n",
       "1                    0       0       0       1               0  ...       0   \n",
       "2                    0       0       0       1               1  ...       0   \n",
       "3                    0       1       0       0               0  ...       0   \n",
       "4                    0       1       0       0               0  ...       0   \n",
       "\n",
       "    Tech-support   Transport-moving   Married-AF-spouse   Married-civ-spouse  \\\n",
       "0              0                  0                   0                    0   \n",
       "1              0                  0                   0                    1   \n",
       "2              0                  0                   0                    0   \n",
       "3              0                  0                   0                    1   \n",
       "4              0                  0                   0                    1   \n",
       "\n",
       "    Married-spouse-absent   Never-married   Separated   Widowed   >50K  \n",
       "0                       0               1           0         0      0  \n",
       "1                       0               0           0         0      0  \n",
       "2                       0               0           0         0      0  \n",
       "3                       0               0           0         0      0  \n",
       "4                       0               0           0         0      0  \n",
       "\n",
       "[5 rows x 55 columns]"
      ]
     },
     "execution_count": 27,
     "metadata": {},
     "output_type": "execute_result"
    }
   ],
   "source": [
    "from sklearn.preprocessing import MinMaxScaler\n",
    "scaler = MinMaxScaler()\n",
    "adult_data[['age', 'fnlwgt','education-num','hours-per-week']] = scaler.fit_transform(adult_data[['age', 'fnlwgt','education-num','hours-per-week']])\n",
    "adult_data.head()"
   ]
  },
  {
   "cell_type": "markdown",
   "metadata": {},
   "source": [
    "IMPORT TEST DATA and TAKE A LOOK"
   ]
  },
  {
   "cell_type": "code",
   "execution_count": 56,
   "metadata": {},
   "outputs": [
    {
     "data": {
      "text/html": [
       "<div>\n",
       "<style scoped>\n",
       "    .dataframe tbody tr th:only-of-type {\n",
       "        vertical-align: middle;\n",
       "    }\n",
       "\n",
       "    .dataframe tbody tr th {\n",
       "        vertical-align: top;\n",
       "    }\n",
       "\n",
       "    .dataframe thead th {\n",
       "        text-align: right;\n",
       "    }\n",
       "</style>\n",
       "<table border=\"1\" class=\"dataframe\">\n",
       "  <thead>\n",
       "    <tr style=\"text-align: right;\">\n",
       "      <th></th>\n",
       "      <th>age</th>\n",
       "      <th>workclass</th>\n",
       "      <th>fnlwgt</th>\n",
       "      <th>education</th>\n",
       "      <th>education-num</th>\n",
       "      <th>marital-status</th>\n",
       "      <th>occupation</th>\n",
       "      <th>relationship</th>\n",
       "      <th>race</th>\n",
       "      <th>sex</th>\n",
       "      <th>capital-gain</th>\n",
       "      <th>capital-loss</th>\n",
       "      <th>hours-per-week</th>\n",
       "      <th>native-country</th>\n",
       "      <th>class</th>\n",
       "    </tr>\n",
       "  </thead>\n",
       "  <tbody>\n",
       "    <tr>\n",
       "      <td>0</td>\n",
       "      <td>|1x3 Cross validator</td>\n",
       "      <td>NaN</td>\n",
       "      <td>NaN</td>\n",
       "      <td>NaN</td>\n",
       "      <td>NaN</td>\n",
       "      <td>NaN</td>\n",
       "      <td>NaN</td>\n",
       "      <td>NaN</td>\n",
       "      <td>NaN</td>\n",
       "      <td>NaN</td>\n",
       "      <td>NaN</td>\n",
       "      <td>NaN</td>\n",
       "      <td>NaN</td>\n",
       "      <td>NaN</td>\n",
       "      <td>NaN</td>\n",
       "    </tr>\n",
       "    <tr>\n",
       "      <td>1</td>\n",
       "      <td>25</td>\n",
       "      <td>Private</td>\n",
       "      <td>226802.0</td>\n",
       "      <td>11th</td>\n",
       "      <td>7.0</td>\n",
       "      <td>Never-married</td>\n",
       "      <td>Machine-op-inspct</td>\n",
       "      <td>Own-child</td>\n",
       "      <td>Black</td>\n",
       "      <td>Male</td>\n",
       "      <td>0.0</td>\n",
       "      <td>0.0</td>\n",
       "      <td>40.0</td>\n",
       "      <td>United-States</td>\n",
       "      <td>&lt;=50K.</td>\n",
       "    </tr>\n",
       "    <tr>\n",
       "      <td>2</td>\n",
       "      <td>38</td>\n",
       "      <td>Private</td>\n",
       "      <td>89814.0</td>\n",
       "      <td>HS-grad</td>\n",
       "      <td>9.0</td>\n",
       "      <td>Married-civ-spouse</td>\n",
       "      <td>Farming-fishing</td>\n",
       "      <td>Husband</td>\n",
       "      <td>White</td>\n",
       "      <td>Male</td>\n",
       "      <td>0.0</td>\n",
       "      <td>0.0</td>\n",
       "      <td>50.0</td>\n",
       "      <td>United-States</td>\n",
       "      <td>&lt;=50K.</td>\n",
       "    </tr>\n",
       "    <tr>\n",
       "      <td>3</td>\n",
       "      <td>28</td>\n",
       "      <td>Local-gov</td>\n",
       "      <td>336951.0</td>\n",
       "      <td>Assoc-acdm</td>\n",
       "      <td>12.0</td>\n",
       "      <td>Married-civ-spouse</td>\n",
       "      <td>Protective-serv</td>\n",
       "      <td>Husband</td>\n",
       "      <td>White</td>\n",
       "      <td>Male</td>\n",
       "      <td>0.0</td>\n",
       "      <td>0.0</td>\n",
       "      <td>40.0</td>\n",
       "      <td>United-States</td>\n",
       "      <td>&gt;50K.</td>\n",
       "    </tr>\n",
       "    <tr>\n",
       "      <td>4</td>\n",
       "      <td>44</td>\n",
       "      <td>Private</td>\n",
       "      <td>160323.0</td>\n",
       "      <td>Some-college</td>\n",
       "      <td>10.0</td>\n",
       "      <td>Married-civ-spouse</td>\n",
       "      <td>Machine-op-inspct</td>\n",
       "      <td>Husband</td>\n",
       "      <td>Black</td>\n",
       "      <td>Male</td>\n",
       "      <td>7688.0</td>\n",
       "      <td>0.0</td>\n",
       "      <td>40.0</td>\n",
       "      <td>United-States</td>\n",
       "      <td>&gt;50K.</td>\n",
       "    </tr>\n",
       "  </tbody>\n",
       "</table>\n",
       "</div>"
      ],
      "text/plain": [
       "                    age   workclass    fnlwgt      education  education-num  \\\n",
       "0  |1x3 Cross validator         NaN       NaN            NaN            NaN   \n",
       "1                    25     Private  226802.0           11th            7.0   \n",
       "2                    38     Private   89814.0        HS-grad            9.0   \n",
       "3                    28   Local-gov  336951.0     Assoc-acdm           12.0   \n",
       "4                    44     Private  160323.0   Some-college           10.0   \n",
       "\n",
       "        marital-status          occupation relationship    race    sex  \\\n",
       "0                  NaN                 NaN          NaN     NaN    NaN   \n",
       "1        Never-married   Machine-op-inspct    Own-child   Black   Male   \n",
       "2   Married-civ-spouse     Farming-fishing      Husband   White   Male   \n",
       "3   Married-civ-spouse     Protective-serv      Husband   White   Male   \n",
       "4   Married-civ-spouse   Machine-op-inspct      Husband   Black   Male   \n",
       "\n",
       "   capital-gain  capital-loss  hours-per-week  native-country    class  \n",
       "0           NaN           NaN             NaN             NaN      NaN  \n",
       "1           0.0           0.0            40.0   United-States   <=50K.  \n",
       "2           0.0           0.0            50.0   United-States   <=50K.  \n",
       "3           0.0           0.0            40.0   United-States    >50K.  \n",
       "4        7688.0           0.0            40.0   United-States    >50K.  "
      ]
     },
     "execution_count": 56,
     "metadata": {},
     "output_type": "execute_result"
    }
   ],
   "source": [
    "adult_test = pd.read_csv(\"https://archive.ics.uci.edu/ml/machine-learning-databases/adult/adult.test\" , names=['age','workclass','fnlwgt', 'education','education-num','marital-status','occupation','relationship','race','sex','capital-gain','capital-loss','hours-per-week','native-country','class'])\n",
    "adult_test.head()"
   ]
  },
  {
   "cell_type": "markdown",
   "metadata": {},
   "source": [
    "replace '?' values to nan and drop the instances with missing values"
   ]
  },
  {
   "cell_type": "code",
   "execution_count": 57,
   "metadata": {},
   "outputs": [],
   "source": [
    "non=[\" ?\", \"?\"]\n",
    "adult_test=adult_test.replace(non, np.nan)  #replace '?' values to nan\n",
    "adult_test.dropna(inplace=True) #remove instances with missing or malformed features"
   ]
  },
  {
   "cell_type": "code",
   "execution_count": 58,
   "metadata": {},
   "outputs": [
    {
     "name": "stdout",
     "output_type": "stream",
     "text": [
      "<class 'pandas.core.frame.DataFrame'>\n",
      "Int64Index: 15060 entries, 1 to 16281\n",
      "Data columns (total 15 columns):\n",
      "age               15060 non-null object\n",
      "workclass         15060 non-null object\n",
      "fnlwgt            15060 non-null float64\n",
      "education         15060 non-null object\n",
      "education-num     15060 non-null float64\n",
      "marital-status    15060 non-null object\n",
      "occupation        15060 non-null object\n",
      "relationship      15060 non-null object\n",
      "race              15060 non-null object\n",
      "sex               15060 non-null object\n",
      "capital-gain      15060 non-null float64\n",
      "capital-loss      15060 non-null float64\n",
      "hours-per-week    15060 non-null float64\n",
      "native-country    15060 non-null object\n",
      "class             15060 non-null object\n",
      "dtypes: float64(5), object(10)\n",
      "memory usage: 1.8+ MB\n"
     ]
    }
   ],
   "source": [
    "adult_test.head()\n",
    "adult_test.info()"
   ]
  },
  {
   "cell_type": "markdown",
   "metadata": {},
   "source": [
    "As we see, 'age' type is object. so we change it to numerical type."
   ]
  },
  {
   "cell_type": "code",
   "execution_count": 59,
   "metadata": {},
   "outputs": [],
   "source": [
    "adult_test['age'] = adult_test['age'].apply(pd.to_numeric) "
   ]
  },
  {
   "cell_type": "markdown",
   "metadata": {},
   "source": [
    "Analyzing Data by creating some plots"
   ]
  },
  {
   "cell_type": "markdown",
   "metadata": {},
   "source": [
    "For categorized Data"
   ]
  },
  {
   "cell_type": "code",
   "execution_count": 40,
   "metadata": {},
   "outputs": [
    {
     "data": {
      "text/plain": [
       "<matplotlib.axes._subplots.AxesSubplot at 0xc445436188>"
      ]
     },
     "execution_count": 40,
     "metadata": {},
     "output_type": "execute_result"
    },
    {
     "data": {
      "image/png": "[encoded data removed]",
      "text/plain": [
       "<Figure size 432x288 with 1 Axes>"
      ]
     },
     "metadata": {
      "needs_background": "light"
     },
     "output_type": "display_data"
    }
   ],
   "source": [
    "sns.countplot(x=\"class\" , data = adult_test)\n"
   ]
  },
  {
   "cell_type": "markdown",
   "metadata": {},
   "source": [
    "In comparison with Class"
   ]
  },
  {
   "cell_type": "code",
   "execution_count": 41,
   "metadata": {},
   "outputs": [
    {
     "data": {
      "text/plain": [
       "<matplotlib.axes._subplots.AxesSubplot at 0xc4452a0a48>"
      ]
     },
     "execution_count": 41,
     "metadata": {},
     "output_type": "execute_result"
    },
    {
     "data": {
      "image/png": "[encoded data removed]",
      "text/plain": [
       "<Figure size 432x288 with 1 Axes>"
      ]
     },
     "metadata": {
      "needs_background": "light"
     },
     "output_type": "display_data"
    }
   ],
   "source": [
    "sns.countplot(x=\"class\" , hue=\"marital-status\", data=adult_test)\n"
   ]
  },
  {
   "cell_type": "code",
   "execution_count": 42,
   "metadata": {},
   "outputs": [
    {
     "data": {
      "text/plain": [
       "<matplotlib.axes._subplots.AxesSubplot at 0xc4452a7608>"
      ]
     },
     "execution_count": 42,
     "metadata": {},
     "output_type": "execute_result"
    },
    {
     "data": {
      "image/png": "[encoded data removed]",
      "text/plain": [
       "<Figure size 432x288 with 1 Axes>"
      ]
     },
     "metadata": {
      "needs_background": "light"
     },
     "output_type": "display_data"
    }
   ],
   "source": [
    "sns.countplot(x=\"class\" , hue=\"native-country\", data=adult_test)\n"
   ]
  },
  {
   "cell_type": "markdown",
   "metadata": {},
   "source": [
    "Alone"
   ]
  },
  {
   "cell_type": "code",
   "execution_count": 43,
   "metadata": {},
   "outputs": [
    {
     "data": {
      "text/plain": [
       "<matplotlib.axes._subplots.AxesSubplot at 0xc4453ceb88>"
      ]
     },
     "execution_count": 43,
     "metadata": {},
     "output_type": "execute_result"
    },
    {
     "data": {
      "image/png": "[encoded data removed]",
      "text/plain": [
       "<Figure size 432x288 with 1 Axes>"
      ]
     },
     "metadata": {
      "needs_background": "light"
     },
     "output_type": "display_data"
    }
   ],
   "source": [
    "sns.countplot(x=\"marital-status\", data=adult_test)\n"
   ]
  },
  {
   "cell_type": "code",
   "execution_count": 45,
   "metadata": {},
   "outputs": [
    {
     "data": {
      "text/plain": [
       "<matplotlib.axes._subplots.AxesSubplot at 0xc445b0d088>"
      ]
     },
     "execution_count": 45,
     "metadata": {},
     "output_type": "execute_result"
    },
    {
     "data": {
      "image/png": "[encoded data removed]",
      "text/plain": [
       "<Figure size 432x288 with 1 Axes>"
      ]
     },
     "metadata": {
      "needs_background": "light"
     },
     "output_type": "display_data"
    }
   ],
   "source": [
    "sns.countplot(x=\"native-country\", data=adult_test)      "
   ]
  },
  {
   "cell_type": "markdown",
   "metadata": {},
   "source": [
    "We see ~99% are from US so we can drop this feature"
   ]
  },
  {
   "cell_type": "code",
   "execution_count": 60,
   "metadata": {},
   "outputs": [],
   "source": [
    "adult_test=adult_test.drop(\"native-country\" , axis=1)\n"
   ]
  },
  {
   "cell_type": "code",
   "execution_count": 61,
   "metadata": {},
   "outputs": [
    {
     "data": {
      "text/plain": [
       "capital-gain    0.999182\n",
       "capital-loss    0.989301\n",
       "dtype: object"
      ]
     },
     "execution_count": 61,
     "metadata": {},
     "output_type": "execute_result"
    }
   ],
   "source": [
    "adult_test.isin([0]).sum()[10:12] \n",
    "(adult_test.sum()[10:12]-adult_test.isin([0]).sum()[10:12])/(adult_test.sum()[10:12])"
   ]
  },
  {
   "cell_type": "markdown",
   "metadata": {},
   "source": [
    "As we see, near %90 they show '0'. So we can drop them."
   ]
  },
  {
   "cell_type": "code",
   "execution_count": 62,
   "metadata": {},
   "outputs": [],
   "source": [
    "adult_test=adult_test.drop(\"capital-gain\", axis=1)\n",
    "adult_test=adult_test.drop(\"capital-loss\"  , axis=1)"
   ]
  },
  {
   "cell_type": "markdown",
   "metadata": {},
   "source": [
    "One-hot encoding for categorical features"
   ]
  },
  {
   "cell_type": "code",
   "execution_count": 63,
   "metadata": {},
   "outputs": [],
   "source": [
    "sex=pd.get_dummies(adult_test['sex'], drop_first=True)\n",
    "races=pd.get_dummies(adult_test['race'], drop_first=True)\n",
    "relation=pd.get_dummies(adult_test['relationship'], drop_first=True)\n",
    "workclass=pd.get_dummies(adult_test['workclass'], drop_first=True)\n",
    "education=pd.get_dummies(adult_test['education'], drop_first=True)\n",
    "occupation=pd.get_dummies(adult_test['occupation'], drop_first=True)\n",
    "marital=pd.get_dummies(adult_test['marital-status'], drop_first=True)\n",
    "income=pd.get_dummies(adult_test['class'], drop_first=True)\n",
    "\n",
    "adult_test=pd.concat([adult_test,sex,races,relation,workclass,education,occupation,marital,income], axis=1 )\n",
    "adult_test=adult_test.drop(['sex','race','relationship','workclass','education','occupation','marital-status','class'], axis=1)\n"
   ]
  },
  {
   "cell_type": "markdown",
   "metadata": {},
   "source": [
    "Now we can take a look at them:"
   ]
  },
  {
   "cell_type": "code",
   "execution_count": 64,
   "metadata": {},
   "outputs": [
    {
     "data": {
      "text/html": [
       "<div>\n",
       "<style scoped>\n",
       "    .dataframe tbody tr th:only-of-type {\n",
       "        vertical-align: middle;\n",
       "    }\n",
       "\n",
       "    .dataframe tbody tr th {\n",
       "        vertical-align: top;\n",
       "    }\n",
       "\n",
       "    .dataframe thead th {\n",
       "        text-align: right;\n",
       "    }\n",
       "</style>\n",
       "<table border=\"1\" class=\"dataframe\">\n",
       "  <thead>\n",
       "    <tr style=\"text-align: right;\">\n",
       "      <th></th>\n",
       "      <th>age</th>\n",
       "      <th>fnlwgt</th>\n",
       "      <th>education-num</th>\n",
       "      <th>hours-per-week</th>\n",
       "      <th>Male</th>\n",
       "      <th>Asian-Pac-Islander</th>\n",
       "      <th>Black</th>\n",
       "      <th>Other</th>\n",
       "      <th>White</th>\n",
       "      <th>Not-in-family</th>\n",
       "      <th>...</th>\n",
       "      <th>Sales</th>\n",
       "      <th>Tech-support</th>\n",
       "      <th>Transport-moving</th>\n",
       "      <th>Married-AF-spouse</th>\n",
       "      <th>Married-civ-spouse</th>\n",
       "      <th>Married-spouse-absent</th>\n",
       "      <th>Never-married</th>\n",
       "      <th>Separated</th>\n",
       "      <th>Widowed</th>\n",
       "      <th>&gt;50K.</th>\n",
       "    </tr>\n",
       "  </thead>\n",
       "  <tbody>\n",
       "    <tr>\n",
       "      <td>1</td>\n",
       "      <td>25</td>\n",
       "      <td>226802.0</td>\n",
       "      <td>7.0</td>\n",
       "      <td>40.0</td>\n",
       "      <td>1</td>\n",
       "      <td>0</td>\n",
       "      <td>1</td>\n",
       "      <td>0</td>\n",
       "      <td>0</td>\n",
       "      <td>0</td>\n",
       "      <td>...</td>\n",
       "      <td>0</td>\n",
       "      <td>0</td>\n",
       "      <td>0</td>\n",
       "      <td>0</td>\n",
       "      <td>0</td>\n",
       "      <td>0</td>\n",
       "      <td>1</td>\n",
       "      <td>0</td>\n",
       "      <td>0</td>\n",
       "      <td>0</td>\n",
       "    </tr>\n",
       "    <tr>\n",
       "      <td>2</td>\n",
       "      <td>38</td>\n",
       "      <td>89814.0</td>\n",
       "      <td>9.0</td>\n",
       "      <td>50.0</td>\n",
       "      <td>1</td>\n",
       "      <td>0</td>\n",
       "      <td>0</td>\n",
       "      <td>0</td>\n",
       "      <td>1</td>\n",
       "      <td>0</td>\n",
       "      <td>...</td>\n",
       "      <td>0</td>\n",
       "      <td>0</td>\n",
       "      <td>0</td>\n",
       "      <td>0</td>\n",
       "      <td>1</td>\n",
       "      <td>0</td>\n",
       "      <td>0</td>\n",
       "      <td>0</td>\n",
       "      <td>0</td>\n",
       "      <td>0</td>\n",
       "    </tr>\n",
       "    <tr>\n",
       "      <td>3</td>\n",
       "      <td>28</td>\n",
       "      <td>336951.0</td>\n",
       "      <td>12.0</td>\n",
       "      <td>40.0</td>\n",
       "      <td>1</td>\n",
       "      <td>0</td>\n",
       "      <td>0</td>\n",
       "      <td>0</td>\n",
       "      <td>1</td>\n",
       "      <td>0</td>\n",
       "      <td>...</td>\n",
       "      <td>0</td>\n",
       "      <td>0</td>\n",
       "      <td>0</td>\n",
       "      <td>0</td>\n",
       "      <td>1</td>\n",
       "      <td>0</td>\n",
       "      <td>0</td>\n",
       "      <td>0</td>\n",
       "      <td>0</td>\n",
       "      <td>1</td>\n",
       "    </tr>\n",
       "    <tr>\n",
       "      <td>4</td>\n",
       "      <td>44</td>\n",
       "      <td>160323.0</td>\n",
       "      <td>10.0</td>\n",
       "      <td>40.0</td>\n",
       "      <td>1</td>\n",
       "      <td>0</td>\n",
       "      <td>1</td>\n",
       "      <td>0</td>\n",
       "      <td>0</td>\n",
       "      <td>0</td>\n",
       "      <td>...</td>\n",
       "      <td>0</td>\n",
       "      <td>0</td>\n",
       "      <td>0</td>\n",
       "      <td>0</td>\n",
       "      <td>1</td>\n",
       "      <td>0</td>\n",
       "      <td>0</td>\n",
       "      <td>0</td>\n",
       "      <td>0</td>\n",
       "      <td>1</td>\n",
       "    </tr>\n",
       "    <tr>\n",
       "      <td>6</td>\n",
       "      <td>34</td>\n",
       "      <td>198693.0</td>\n",
       "      <td>6.0</td>\n",
       "      <td>30.0</td>\n",
       "      <td>1</td>\n",
       "      <td>0</td>\n",
       "      <td>0</td>\n",
       "      <td>0</td>\n",
       "      <td>1</td>\n",
       "      <td>1</td>\n",
       "      <td>...</td>\n",
       "      <td>0</td>\n",
       "      <td>0</td>\n",
       "      <td>0</td>\n",
       "      <td>0</td>\n",
       "      <td>0</td>\n",
       "      <td>0</td>\n",
       "      <td>1</td>\n",
       "      <td>0</td>\n",
       "      <td>0</td>\n",
       "      <td>0</td>\n",
       "    </tr>\n",
       "  </tbody>\n",
       "</table>\n",
       "<p>5 rows × 55 columns</p>\n",
       "</div>"
      ],
      "text/plain": [
       "   age    fnlwgt  education-num  hours-per-week   Male   Asian-Pac-Islander  \\\n",
       "1   25  226802.0            7.0            40.0      1                    0   \n",
       "2   38   89814.0            9.0            50.0      1                    0   \n",
       "3   28  336951.0           12.0            40.0      1                    0   \n",
       "4   44  160323.0           10.0            40.0      1                    0   \n",
       "6   34  198693.0            6.0            30.0      1                    0   \n",
       "\n",
       "    Black   Other   White   Not-in-family  ...   Sales   Tech-support  \\\n",
       "1       1       0       0               0  ...       0              0   \n",
       "2       0       0       1               0  ...       0              0   \n",
       "3       0       0       1               0  ...       0              0   \n",
       "4       1       0       0               0  ...       0              0   \n",
       "6       0       0       1               1  ...       0              0   \n",
       "\n",
       "    Transport-moving   Married-AF-spouse   Married-civ-spouse  \\\n",
       "1                  0                   0                    0   \n",
       "2                  0                   0                    1   \n",
       "3                  0                   0                    1   \n",
       "4                  0                   0                    1   \n",
       "6                  0                   0                    0   \n",
       "\n",
       "    Married-spouse-absent   Never-married   Separated   Widowed   >50K.  \n",
       "1                       0               1           0         0       0  \n",
       "2                       0               0           0         0       0  \n",
       "3                       0               0           0         0       1  \n",
       "4                       0               0           0         0       1  \n",
       "6                       0               1           0         0       0  \n",
       "\n",
       "[5 rows x 55 columns]"
      ]
     },
     "execution_count": 64,
     "metadata": {},
     "output_type": "execute_result"
    }
   ],
   "source": [
    "adult_test.head()"
   ]
  },
  {
   "cell_type": "markdown",
   "metadata": {},
   "source": [
    "We use feature_scaling"
   ]
  },
  {
   "cell_type": "code",
   "execution_count": 65,
   "metadata": {},
   "outputs": [],
   "source": [
    "from sklearn.preprocessing import MinMaxScaler\n",
    "scaler = MinMaxScaler()\n",
    "adult_test[['age', 'fnlwgt','education-num','hours-per-week']] = scaler.fit_transform(adult_test[['age', 'fnlwgt','education-num','hours-per-week']])"
   ]
  },
  {
   "cell_type": "code",
   "execution_count": 52,
   "metadata": {},
   "outputs": [
    {
     "data": {
      "text/html": [
       "<div>\n",
       "<style scoped>\n",
       "    .dataframe tbody tr th:only-of-type {\n",
       "        vertical-align: middle;\n",
       "    }\n",
       "\n",
       "    .dataframe tbody tr th {\n",
       "        vertical-align: top;\n",
       "    }\n",
       "\n",
       "    .dataframe thead th {\n",
       "        text-align: right;\n",
       "    }\n",
       "</style>\n",
       "<table border=\"1\" class=\"dataframe\">\n",
       "  <thead>\n",
       "    <tr style=\"text-align: right;\">\n",
       "      <th></th>\n",
       "      <th>age</th>\n",
       "      <th>fnlwgt</th>\n",
       "      <th>education-num</th>\n",
       "      <th>hours-per-week</th>\n",
       "      <th>Male</th>\n",
       "      <th>Asian-Pac-Islander</th>\n",
       "      <th>Black</th>\n",
       "      <th>Other</th>\n",
       "      <th>White</th>\n",
       "      <th>Not-in-family</th>\n",
       "      <th>...</th>\n",
       "      <th>Sales</th>\n",
       "      <th>Tech-support</th>\n",
       "      <th>Transport-moving</th>\n",
       "      <th>Married-AF-spouse</th>\n",
       "      <th>Married-civ-spouse</th>\n",
       "      <th>Married-spouse-absent</th>\n",
       "      <th>Never-married</th>\n",
       "      <th>Separated</th>\n",
       "      <th>Widowed</th>\n",
       "      <th>&gt;50K.</th>\n",
       "    </tr>\n",
       "  </thead>\n",
       "  <tbody>\n",
       "    <tr>\n",
       "      <td>1</td>\n",
       "      <td>0.109589</td>\n",
       "      <td>0.144430</td>\n",
       "      <td>0.400000</td>\n",
       "      <td>0.397959</td>\n",
       "      <td>1</td>\n",
       "      <td>0</td>\n",
       "      <td>1</td>\n",
       "      <td>0</td>\n",
       "      <td>0</td>\n",
       "      <td>0</td>\n",
       "      <td>...</td>\n",
       "      <td>0</td>\n",
       "      <td>0</td>\n",
       "      <td>0</td>\n",
       "      <td>0</td>\n",
       "      <td>0</td>\n",
       "      <td>0</td>\n",
       "      <td>1</td>\n",
       "      <td>0</td>\n",
       "      <td>0</td>\n",
       "      <td>0</td>\n",
       "    </tr>\n",
       "    <tr>\n",
       "      <td>2</td>\n",
       "      <td>0.287671</td>\n",
       "      <td>0.051677</td>\n",
       "      <td>0.533333</td>\n",
       "      <td>0.500000</td>\n",
       "      <td>1</td>\n",
       "      <td>0</td>\n",
       "      <td>0</td>\n",
       "      <td>0</td>\n",
       "      <td>1</td>\n",
       "      <td>0</td>\n",
       "      <td>...</td>\n",
       "      <td>0</td>\n",
       "      <td>0</td>\n",
       "      <td>0</td>\n",
       "      <td>0</td>\n",
       "      <td>1</td>\n",
       "      <td>0</td>\n",
       "      <td>0</td>\n",
       "      <td>0</td>\n",
       "      <td>0</td>\n",
       "      <td>0</td>\n",
       "    </tr>\n",
       "    <tr>\n",
       "      <td>3</td>\n",
       "      <td>0.150685</td>\n",
       "      <td>0.219011</td>\n",
       "      <td>0.733333</td>\n",
       "      <td>0.397959</td>\n",
       "      <td>1</td>\n",
       "      <td>0</td>\n",
       "      <td>0</td>\n",
       "      <td>0</td>\n",
       "      <td>1</td>\n",
       "      <td>0</td>\n",
       "      <td>...</td>\n",
       "      <td>0</td>\n",
       "      <td>0</td>\n",
       "      <td>0</td>\n",
       "      <td>0</td>\n",
       "      <td>1</td>\n",
       "      <td>0</td>\n",
       "      <td>0</td>\n",
       "      <td>0</td>\n",
       "      <td>0</td>\n",
       "      <td>1</td>\n",
       "    </tr>\n",
       "    <tr>\n",
       "      <td>4</td>\n",
       "      <td>0.369863</td>\n",
       "      <td>0.099418</td>\n",
       "      <td>0.600000</td>\n",
       "      <td>0.397959</td>\n",
       "      <td>1</td>\n",
       "      <td>0</td>\n",
       "      <td>1</td>\n",
       "      <td>0</td>\n",
       "      <td>0</td>\n",
       "      <td>0</td>\n",
       "      <td>...</td>\n",
       "      <td>0</td>\n",
       "      <td>0</td>\n",
       "      <td>0</td>\n",
       "      <td>0</td>\n",
       "      <td>1</td>\n",
       "      <td>0</td>\n",
       "      <td>0</td>\n",
       "      <td>0</td>\n",
       "      <td>0</td>\n",
       "      <td>1</td>\n",
       "    </tr>\n",
       "    <tr>\n",
       "      <td>6</td>\n",
       "      <td>0.232877</td>\n",
       "      <td>0.125398</td>\n",
       "      <td>0.333333</td>\n",
       "      <td>0.295918</td>\n",
       "      <td>1</td>\n",
       "      <td>0</td>\n",
       "      <td>0</td>\n",
       "      <td>0</td>\n",
       "      <td>1</td>\n",
       "      <td>1</td>\n",
       "      <td>...</td>\n",
       "      <td>0</td>\n",
       "      <td>0</td>\n",
       "      <td>0</td>\n",
       "      <td>0</td>\n",
       "      <td>0</td>\n",
       "      <td>0</td>\n",
       "      <td>1</td>\n",
       "      <td>0</td>\n",
       "      <td>0</td>\n",
       "      <td>0</td>\n",
       "    </tr>\n",
       "  </tbody>\n",
       "</table>\n",
       "<p>5 rows × 55 columns</p>\n",
       "</div>"
      ],
      "text/plain": [
       "        age    fnlwgt  education-num  hours-per-week   Male  \\\n",
       "1  0.109589  0.144430       0.400000        0.397959      1   \n",
       "2  0.287671  0.051677       0.533333        0.500000      1   \n",
       "3  0.150685  0.219011       0.733333        0.397959      1   \n",
       "4  0.369863  0.099418       0.600000        0.397959      1   \n",
       "6  0.232877  0.125398       0.333333        0.295918      1   \n",
       "\n",
       "    Asian-Pac-Islander   Black   Other   White   Not-in-family  ...   Sales  \\\n",
       "1                    0       1       0       0               0  ...       0   \n",
       "2                    0       0       0       1               0  ...       0   \n",
       "3                    0       0       0       1               0  ...       0   \n",
       "4                    0       1       0       0               0  ...       0   \n",
       "6                    0       0       0       1               1  ...       0   \n",
       "\n",
       "    Tech-support   Transport-moving   Married-AF-spouse   Married-civ-spouse  \\\n",
       "1              0                  0                   0                    0   \n",
       "2              0                  0                   0                    1   \n",
       "3              0                  0                   0                    1   \n",
       "4              0                  0                   0                    1   \n",
       "6              0                  0                   0                    0   \n",
       "\n",
       "    Married-spouse-absent   Never-married   Separated   Widowed   >50K.  \n",
       "1                       0               1           0         0       0  \n",
       "2                       0               0           0         0       0  \n",
       "3                       0               0           0         0       1  \n",
       "4                       0               0           0         0       1  \n",
       "6                       0               1           0         0       0  \n",
       "\n",
       "[5 rows x 55 columns]"
      ]
     },
     "execution_count": 52,
     "metadata": {},
     "output_type": "execute_result"
    }
   ],
   "source": [
    "adult_test.head()"
   ]
  },
  {
   "cell_type": "markdown",
   "metadata": {},
   "source": [
    "X, y for train data"
   ]
  },
  {
   "cell_type": "code",
   "execution_count": 66,
   "metadata": {},
   "outputs": [],
   "source": [
    "X_train=adult_data.drop(' >50K', axis=1)\n",
    "y_train=adult_data[' >50K']"
   ]
  },
  {
   "cell_type": "markdown",
   "metadata": {},
   "source": [
    "X, y for test data"
   ]
  },
  {
   "cell_type": "code",
   "execution_count": 68,
   "metadata": {},
   "outputs": [],
   "source": [
    "X_test=adult_test.drop(' >50K.', axis=1)\n",
    "y_test=adult_test[' >50K.']\n"
   ]
  },
  {
   "cell_type": "markdown",
   "metadata": {},
   "source": [
    "2. Implementing the models"
   ]
  },
  {
   "cell_type": "markdown",
   "metadata": {},
   "source": [
    "2.1. Implementing logistic regression"
   ]
  },
  {
   "cell_type": "markdown",
   "metadata": {},
   "source": [
    "A class for logistic regression with gradient descent:"
   ]
  },
  {
   "cell_type": "code",
   "execution_count": 69,
   "metadata": {},
   "outputs": [],
   "source": [
    "class Logistic_Regression:\n",
    "    def __init__(self,\n",
    "                 lr = 0.01, #learning rate of the gradient descent method\n",
    "                 eps = 1e-2 # termination condition of the gradient descent method\n",
    "                ):\n",
    "        self.lr = lr\n",
    "        self.eps = eps\n",
    "        \n",
    "    # Implementing the logistic function\n",
    "    def __logistic_function(self, x):\n",
    "        return 1/(1 + np.exp(-x))\n",
    "    \n",
    "    # Implementing the cost function\n",
    "    def __cost(self,\n",
    "               w, # N\n",
    "               X_train, # N x D\n",
    "               y_train, # N\n",
    "              ):\n",
    "        z = np.dot(X_train, w) # N x 1\n",
    "        J = np.mean(y_train * np.log1p(np.exp(-z)) + (1 - y_train) * np.log1p(np.exp(z)))\n",
    "        return J\n",
    "    \n",
    "    # Implementing the gradient function\n",
    "    def __gradient(self,\n",
    "                   w, # N\n",
    "                   X_train, # N x D\n",
    "                   y_train, # N\n",
    "                  ):\n",
    "        N = y_train.size\n",
    "        z = np.dot(X_train, w) # N x 1\n",
    "        yh = self.__logistic_function(z)\n",
    "        return np.dot(X_train.T, (yh - y_train)) / N\n",
    "    \n",
    "    def __GradientDescent(self,\n",
    "                          X_train, # N x D\n",
    "                          y_train, # N\n",
    "                          lr, #learning rate\n",
    "                          #n_iterations = 300\n",
    "                          eps# termination condition\n",
    "                         ):\n",
    "        #N, D = X.shape\n",
    "        N = X_train.shape[0]\n",
    "        \n",
    "        intercept = np.ones((N, 1))\n",
    "        X_train = np.concatenate((intercept, X_train), axis=1)\n",
    "        \n",
    "        D = X_train.shape[1]\n",
    "        \n",
    "        w = np.zeros(D)\n",
    "        g = np.inf\n",
    "        \n",
    "        n_iterations = 0 # just for counting the number of iterations\n",
    "        \n",
    "        while (np.linalg.norm(g) > eps):\n",
    "            g = self.__gradient(w, X_train, y_train)\n",
    "            w = w - lr * g\n",
    "            \n",
    "            n_iterations += 1\n",
    "        \n",
    "        print('Number of iterations:', n_iterations)\n",
    "        \n",
    "        return w\n",
    "    \n",
    "    # Implementing the fit function\n",
    "    def fit(self,\n",
    "            X_train, # N x D\n",
    "            y_train # N\n",
    "            ):\n",
    "        \n",
    "        w = self.__GradientDescent(X_train, y_train, self.lr, self.eps)\n",
    "        \n",
    "        return w\n",
    "    \n",
    "    # Implementing the predict function\n",
    "    def predict (self,\n",
    "                 X_test,\n",
    "                 w,\n",
    "                threshold = 0.5\n",
    "                ):\n",
    "        intercept = np.ones((X_test.shape[0], 1))\n",
    "        X_test = np.concatenate((intercept, X_test), axis=1)\n",
    "\n",
    "        return self.__logistic_function(np.dot(X_test, w)) >= threshold\n",
    "    \n",
    "    # Function for checking the algorithm accuracy\n",
    "    def evaluate_acc(self,\n",
    "                    predicted_values,\n",
    "                    true_values\n",
    "                    ):\n",
    "        check = []\n",
    "        i = 0\n",
    "        correct = 0\n",
    "        incorrect = 0\n",
    "        for y_i in true_values:\n",
    "            if ((y_i == 1) and (predicted_values[i] == True)):\n",
    "                check.append([True])\n",
    "                correct += 1\n",
    "            elif ((y_i == 0) and (predicted_values[i] == False)):\n",
    "                check.append([True])\n",
    "                correct += 1\n",
    "            else:\n",
    "                check.append([False])\n",
    "                incorrect += 1  \n",
    "            i += 1\n",
    "\n",
    "        print('Correct classifications:', correct)\n",
    "        print('Incorrect classifications:', incorrect)\n",
    "        print('Accuracy:', correct/(correct + incorrect))"
   ]
  },
  {
   "cell_type": "markdown",
   "metadata": {},
   "source": [
    "Essentially the same class but instead of the termiantion condition $\\epsilon$ the number of iterations $n_{iterations}$ is used"
   ]
  },
  {
   "cell_type": "code",
   "execution_count": 70,
   "metadata": {},
   "outputs": [],
   "source": [
    "class Logistic_Regression_Iter:\n",
    "    def __init__(self,\n",
    "                 lr = 0.01, #learning rate of the gradient descent method\n",
    "                 n_iterations = 1e-2, # number of iterations of the gradient descent method\n",
    "                ):\n",
    "        self.lr = lr\n",
    "        self.n_iterations = n_iterations\n",
    "        \n",
    "    # Implementing the logistic function\n",
    "    def __logistic_function(self, x):\n",
    "        return 1/(1 + np.exp(-x))\n",
    "    \n",
    "    # Implementing the cost function\n",
    "    def __cost(self,\n",
    "               w, # N\n",
    "               X_train, # N x D\n",
    "               y_train, # N\n",
    "              ):\n",
    "        z = np.dot(X_train, w) # N x 1\n",
    "        J = np.mean(y_train * np.log1p(np.exp(-z)) + (1 - y_train) * np.log1p(np.exp(z)))\n",
    "        return J\n",
    "    \n",
    "    # Implementing the gradient function\n",
    "    def __gradient(self,\n",
    "                   w, # N\n",
    "                   X_train, # N x D\n",
    "                   y_train, # N\n",
    "                  ):\n",
    "        N = y_train.size\n",
    "        z = np.dot(X_train, w) # N x 1\n",
    "        yh = self.__logistic_function(z)\n",
    "        return np.dot(X_train.T, (yh - y_train)) / N\n",
    "    \n",
    "    def __GradientDescent(self,\n",
    "                          X_train, # N x D\n",
    "                          y_train, # N\n",
    "                          lr, #learning rate\n",
    "                          n_iterations # termination condition\n",
    "                         ):\n",
    "        #N, D = X.shape\n",
    "        N = X_train.shape[0]\n",
    "        \n",
    "        intercept = np.ones((N, 1))\n",
    "        X_train = np.concatenate((intercept, X_train), axis=1)\n",
    "        \n",
    "        D = X_train.shape[1]\n",
    "        \n",
    "        w = np.zeros(D)\n",
    "        g = np.inf\n",
    "        \n",
    "        n = 0 # just for counting the number of iterations\n",
    "        while (n_iterations > n):\n",
    "            g = self.__gradient(w, X_train, y_train)\n",
    "            w = w - lr * g\n",
    "\n",
    "            n += 1\n",
    "\n",
    "        #print('Number of iterations of the gradient descent:', n)\n",
    "        \n",
    "        return w\n",
    "    \n",
    "    # Implementing the fit function\n",
    "    def fit(self,\n",
    "            X_train, # N x D\n",
    "            y_train # N\n",
    "            ):\n",
    "        \n",
    "        w = self.__GradientDescent(X_train, y_train, self.lr, self.n_iterations)\n",
    "        \n",
    "        return w\n",
    "    \n",
    "    # Implementing the predict function\n",
    "    def predict (self,\n",
    "                 X_test,\n",
    "                 w,\n",
    "                threshold = 0.5\n",
    "                ):\n",
    "        intercept = np.ones((X_test.shape[0], 1))\n",
    "        X_test = np.concatenate((intercept, X_test), axis=1)\n",
    "\n",
    "        return self.__logistic_function(np.dot(X_test, w)) >= threshold\n",
    "    \n",
    "    # Function for checking the algorithm accuracy\n",
    "    def evaluate_acc(self,\n",
    "                    predicted_values,\n",
    "                    true_values\n",
    "                    ):\n",
    "        check = []\n",
    "        i = 0\n",
    "        correct = 0\n",
    "        incorrect = 0\n",
    "        for y_i in true_values:\n",
    "            if ((y_i == 1) and (predicted_values[i] == True)):\n",
    "                check.append([True])\n",
    "                correct += 1\n",
    "            elif ((y_i == 0) and (predicted_values[i] == False)):\n",
    "                check.append([True])\n",
    "                correct += 1\n",
    "            else:\n",
    "                check.append([False])\n",
    "                incorrect += 1  \n",
    "            i += 1\n",
    "        \n",
    "        accuracy = correct/(correct + incorrect)\n",
    "        print('Correct classifications:', correct)\n",
    "        print('Incorrect classifications:', incorrect)\n",
    "        print('Accuracy of the logistic regression:', correct/(correct + incorrect))\n",
    "        \n",
    "        return accuracy"
   ]
  },
  {
   "cell_type": "markdown",
   "metadata": {},
   "source": [
    "Setting up the logistic regression:"
   ]
  },
  {
   "cell_type": "code",
   "execution_count": 72,
   "metadata": {},
   "outputs": [],
   "source": [
    "LR = Logistic_Regression()"
   ]
  },
  {
   "cell_type": "markdown",
   "metadata": {},
   "source": [
    "Running the fit function:"
   ]
  },
  {
   "cell_type": "code",
   "execution_count": 73,
   "metadata": {},
   "outputs": [
    {
     "name": "stdout",
     "output_type": "stream",
     "text": [
      "Number of iterations: 13877\n",
      "Wall time: 2min 10s\n"
     ]
    },
    {
     "data": {
      "text/plain": [
       "array([-1.30929134,  0.31480377, -0.1016531 ,  0.4880021 ,  0.20779347,\n",
       "        0.33992144, -0.19168689, -0.46289884, -0.14146553, -0.34816608,\n",
       "       -0.41683818, -0.34615513, -0.99065382, -0.74070526,  0.33625876,\n",
       "       -0.33990814, -0.41176622,  0.18561617, -0.53083925, -0.32866343,\n",
       "       -0.01580665, -0.43083734, -0.15246651, -0.1148719 , -0.21056615,\n",
       "       -0.41597867, -0.298275  , -0.09538421, -0.10006125,  0.4041844 ,\n",
       "        0.38976017, -0.56824473,  0.59487084, -0.0334795 ,  0.52335698,\n",
       "       -0.30132093, -0.00508848, -0.17092803,  0.80125086, -0.47406292,\n",
       "       -0.46735246, -0.43254434, -0.81205876, -0.06226637,  0.61831266,\n",
       "        0.07984165,  0.21726641,  0.19975396, -0.20900377,  0.02584285,\n",
       "        1.03752501, -0.10161961, -1.04464847, -0.21076571, -0.12447649])"
      ]
     },
     "execution_count": 73,
     "metadata": {},
     "output_type": "execute_result"
    }
   ],
   "source": [
    "%time w = LR.fit(X_train, y_train)\n",
    "w"
   ]
  },
  {
   "cell_type": "markdown",
   "metadata": {},
   "source": [
    "Running the predict function:\n",
    "\n"
   ]
  },
  {
   "cell_type": "code",
   "execution_count": 75,
   "metadata": {},
   "outputs": [],
   "source": [
    "pred = LR.predict(X_test, w)"
   ]
  },
  {
   "cell_type": "markdown",
   "metadata": {},
   "source": [
    "Checking how much of the test dataset was predicted correctly:"
   ]
  },
  {
   "cell_type": "code",
   "execution_count": 77,
   "metadata": {},
   "outputs": [
    {
     "name": "stdout",
     "output_type": "stream",
     "text": [
      "Correct classifications: 12433\n",
      "Incorrect classifications: 2627\n",
      "Accuracy: 0.8255644090305445\n"
     ]
    }
   ],
   "source": [
    "accuracy = LR.evaluate_acc(pred, y_test)"
   ]
  },
  {
   "cell_type": "markdown",
   "metadata": {},
   "source": [
    "2.2. Implementing Naïve Bayes"
   ]
  },
  {
   "cell_type": "code",
   "execution_count": 78,
   "metadata": {},
   "outputs": [],
   "source": [
    "class Naive_Bayes_Mixed():\n",
    "    def __init__(self,\n",
    "                 categorical_features = None,\n",
    "                 alpha = 0.5,\n",
    "                 ):\n",
    "        self.categorical_features = categorical_features\n",
    "        self.alpha = alpha\n",
    "    \n",
    "    def fit(self, X_train, y_train): \n",
    "\n",
    "        self.epsilon = 1e-9 * np.var(X_train, ddof = 1, axis = 0).max()\n",
    "        \n",
    "        # Get whatever that is needed\n",
    "        uniques = np.unique(y_train)\n",
    "        num_classes = uniques.size\n",
    "        (num_samples, num_features) = X_train.shape\n",
    "\n",
    "        # Correct the inputs\n",
    "        priors = np.bincount(y_train)/num_samples\n",
    "\n",
    "        if self.categorical_features is None:\n",
    "            self.categorical_features = []\n",
    "        elif self.categorical_features is 'all':\n",
    "            self.categorical_features = np.arange(0, num_features)\n",
    "\n",
    "        # Get the index columns of the discrete data and continuous data\n",
    "        self.categorical_features = np.array(\n",
    "                self.categorical_features).astype(int)\n",
    "        self.gaussian_features = np.delete(\n",
    "                np.arange(num_features),\n",
    "                self.categorical_features)\n",
    "\n",
    "        # How many categories are there in each categorical_feature\n",
    "        # Add 1 due to zero-indexing\n",
    "        max_categories = np.max(X_train.to_numpy()[:, self.categorical_features],axis=0) + 1\n",
    "        max_categories = max_categories.astype(int)\n",
    "\n",
    "        # Prepare empty arrays\n",
    "        if self.gaussian_features.size != 0:\n",
    "            means = np.zeros((num_classes, len(self.gaussian_features)))\n",
    "            stds = np.zeros((num_classes, len(self.gaussian_features)))\n",
    "        if self.categorical_features.size != 0:\n",
    "            self.categorical_posteriors = [\n",
    "                    np.zeros((num_classes, num_categories))\n",
    "                    for num_categories in max_categories]\n",
    "\n",
    "        # TODO optimise below!\n",
    "        for y_i in uniques:\n",
    "\n",
    "            if self.gaussian_features.size != 0:\n",
    "                x = X_train.to_numpy()[y_train == y_i, :][:, self.gaussian_features]\n",
    "                means[y_i, :] = np.mean(x, axis=0)\n",
    "                # note: it's really sigma squared\n",
    "                stds[y_i, :] = np.var(x, axis=0)\n",
    "\n",
    "            if self.categorical_features.size != 0:\n",
    "                for i, categorical_feature in enumerate(self.categorical_features):\n",
    "                    dist = np.bincount(\n",
    "                            X_train.to_numpy()[y_train == y_i, :][:, categorical_feature].astype(int),\n",
    "                            minlength = max_categories[i]) + self.alpha\n",
    "                    self.categorical_posteriors[i][y_i, :] = dist / np.sum(dist)\n",
    "\n",
    "        return priors, means, stds\n",
    "    \n",
    "    def __Gaussian_Naive_Mixed(self,\n",
    "                               X_test,\n",
    "                               priors,\n",
    "                               means,\n",
    "                               stds\n",
    "                               ):\n",
    "\n",
    "        X_test = np.array(X_test)\n",
    "\n",
    "        if self.gaussian_features.size != 0:\n",
    "            # TODO optimisation: Below is a copy. Can consider masking\n",
    "            x_gaussian = X_test[:, self.gaussian_features]\n",
    "            mu = means[:, np.newaxis]\n",
    "            s = stds[:, np.newaxis] + self.epsilon\n",
    "\n",
    "            # Likelihood from the test dataset\n",
    "            likelihood = 1./np.sqrt(2.*np.pi*s) * \\\n",
    "                np.exp(-((x_gaussian-mu)**2.)/(2.*s))\n",
    "\n",
    "            t = np.prod(likelihood, axis = 2)[:, :, np.newaxis]\n",
    "            t = np.squeeze(t.T)\n",
    "\n",
    "        if self.categorical_features.size != 0:\n",
    "\n",
    "            # Cast tensor to int\n",
    "            X = X_test[:, self.categorical_features].astype(int)\n",
    "\n",
    "            # A list of length=num_features.\n",
    "            # Each item in the list contains the distributions for the y_classes\n",
    "            # Shape of each item is (num_classes,1,num_samples)\n",
    "            preds = [categorical_posterior[:, X[:, i][:, np.newaxis]]\n",
    "                      for i, categorical_posterior\n",
    "                      in enumerate(self.categorical_posteriors)]\n",
    "\n",
    "            r = np.concatenate([preds], axis = 0)\n",
    "            r = np.squeeze(r, axis = -1)\n",
    "            r = np.moveaxis(r, [0, 1, 2], [2, 0, 1])\n",
    "\n",
    "            p = np.prod(r, axis = 2).T\n",
    "\n",
    "        if (self.gaussian_features.size != 0) and (self.categorical_features.size != 0):\n",
    "            finals = t * p * priors\n",
    "        elif (self.gaussian_features.size != 0):\n",
    "            finals = t * priors\n",
    "        elif (self.categorical_features.size != 0):\n",
    "            finals = p * priors\n",
    "\n",
    "        normalized = finals.T/(np.sum(finals, axis = 1) + 1e-6)\n",
    "        normalized = np.moveaxis(normalized, [0, 1], [1, 0])\n",
    "\n",
    "        return normalized\n",
    "    \n",
    "    def predict(self,\n",
    "                X_test,\n",
    "                priors,\n",
    "                means,\n",
    "                stds\n",
    "                ):\n",
    "        \n",
    "        pred = self.__Gaussian_Naive_Mixed(X_test,\n",
    "                                           priors,\n",
    "                                           means,\n",
    "                                           stds)\n",
    "        return np.argmax(pred, axis = 1)\n",
    "    \n",
    "    # Function for checking the algorithm accuracy\n",
    "    def evaluate_acc(self,\n",
    "                    predicted_values,\n",
    "                    true_values\n",
    "                    ):\n",
    "        check = []\n",
    "        i = 0 # a counter for retreiving information from predicted target values\n",
    "        correct = 0\n",
    "        incorrect = 0\n",
    "        for y_i in true_values:\n",
    "            if ((y_i == 1) and (predicted_values[i] == 1)):\n",
    "                check.append([True])\n",
    "                correct += 1\n",
    "            elif ((y_i == 0) and (predicted_values[i] == 0)):\n",
    "                check.append([True])\n",
    "                correct += 1\n",
    "            else:\n",
    "                check.append([False])\n",
    "                incorrect += 1  \n",
    "            i += 1\n",
    "        accuracy = correct/(correct + incorrect)\n",
    "        print('Correct classifications:', correct)\n",
    "        print('Incorrect classifications:', incorrect)\n",
    "        print('Accuracy of the naive Bayes:', correct/(correct + incorrect))\n",
    "        \n",
    "        return accuracy\n",
    "    "
   ]
  },
  {
   "cell_type": "code",
   "execution_count": 80,
   "metadata": {
    "scrolled": true
   },
   "outputs": [
    {
     "name": "stdout",
     "output_type": "stream",
     "text": [
      "<class 'pandas.core.frame.DataFrame'>\n",
      "Int64Index: 30162 entries, 0 to 32560\n",
      "Data columns (total 55 columns):\n",
      "age                       30162 non-null float64\n",
      "fnlwgt                    30162 non-null float64\n",
      "education-num             30162 non-null float64\n",
      "hours-per-week            30162 non-null float64\n",
      " Male                     30162 non-null uint8\n",
      " Asian-Pac-Islander       30162 non-null uint8\n",
      " Black                    30162 non-null uint8\n",
      " Other                    30162 non-null uint8\n",
      " White                    30162 non-null uint8\n",
      " Not-in-family            30162 non-null uint8\n",
      " Other-relative           30162 non-null uint8\n",
      " Own-child                30162 non-null uint8\n",
      " Unmarried                30162 non-null uint8\n",
      " Wife                     30162 non-null uint8\n",
      " Local-gov                30162 non-null uint8\n",
      " Private                  30162 non-null uint8\n",
      " Self-emp-inc             30162 non-null uint8\n",
      " Self-emp-not-inc         30162 non-null uint8\n",
      " State-gov                30162 non-null uint8\n",
      " Without-pay              30162 non-null uint8\n",
      " 11th                     30162 non-null uint8\n",
      " 12th                     30162 non-null uint8\n",
      " 1st-4th                  30162 non-null uint8\n",
      " 5th-6th                  30162 non-null uint8\n",
      " 7th-8th                  30162 non-null uint8\n",
      " 9th                      30162 non-null uint8\n",
      " Assoc-acdm               30162 non-null uint8\n",
      " Assoc-voc                30162 non-null uint8\n",
      " Bachelors                30162 non-null uint8\n",
      " Doctorate                30162 non-null uint8\n",
      " HS-grad                  30162 non-null uint8\n",
      " Masters                  30162 non-null uint8\n",
      " Preschool                30162 non-null uint8\n",
      " Prof-school              30162 non-null uint8\n",
      " Some-college             30162 non-null uint8\n",
      " Armed-Forces             30162 non-null uint8\n",
      " Craft-repair             30162 non-null uint8\n",
      " Exec-managerial          30162 non-null uint8\n",
      " Farming-fishing          30162 non-null uint8\n",
      " Handlers-cleaners        30162 non-null uint8\n",
      " Machine-op-inspct        30162 non-null uint8\n",
      " Other-service            30162 non-null uint8\n",
      " Priv-house-serv          30162 non-null uint8\n",
      " Prof-specialty           30162 non-null uint8\n",
      " Protective-serv          30162 non-null uint8\n",
      " Sales                    30162 non-null uint8\n",
      " Tech-support             30162 non-null uint8\n",
      " Transport-moving         30162 non-null uint8\n",
      " Married-AF-spouse        30162 non-null uint8\n",
      " Married-civ-spouse       30162 non-null uint8\n",
      " Married-spouse-absent    30162 non-null uint8\n",
      " Never-married            30162 non-null uint8\n",
      " Separated                30162 non-null uint8\n",
      " Widowed                  30162 non-null uint8\n",
      " >50K                     30162 non-null uint8\n",
      "dtypes: float64(4), uint8(51)\n",
      "memory usage: 3.9 MB\n"
     ]
    }
   ],
   "source": [
    "adult_data.info()"
   ]
  },
  {
   "cell_type": "code",
   "execution_count": 81,
   "metadata": {},
   "outputs": [],
   "source": [
    "NBM = Naive_Bayes_Mixed(categorical_features =[4,5,6,7,8,9,10,11,12,13,14,15,16,17,18,19,20,21,22,23,24,25,26,27,28,29,30,31,32,33,34,35,36,37,38,39,40,41,42,43,44,45,46,47,48,49,50,51,52,53])    "
   ]
  },
  {
   "cell_type": "code",
   "execution_count": 83,
   "metadata": {},
   "outputs": [],
   "source": [
    "priors, means, stds = NBM.fit(X_train, y_train)"
   ]
  },
  {
   "cell_type": "code",
   "execution_count": 85,
   "metadata": {},
   "outputs": [],
   "source": [
    "pred = NBM.predict(X_test, priors, means, stds)"
   ]
  },
  {
   "cell_type": "code",
   "execution_count": 86,
   "metadata": {},
   "outputs": [
    {
     "data": {
      "text/plain": [
       "array([0, 0, 1, ..., 1, 0, 1], dtype=int64)"
      ]
     },
     "execution_count": 86,
     "metadata": {},
     "output_type": "execute_result"
    }
   ],
   "source": [
    "pred"
   ]
  },
  {
   "cell_type": "code",
   "execution_count": 87,
   "metadata": {},
   "outputs": [
    {
     "name": "stdout",
     "output_type": "stream",
     "text": [
      "Correct classifications: 12133\n",
      "Incorrect classifications: 2927\n",
      "Accuracy of the naive Bayes: 0.8056440903054449\n"
     ]
    }
   ],
   "source": [
    "accuracy = NBM.evaluate_acc(pred, y_test)\n"
   ]
  },
  {
   "cell_type": "code",
   "execution_count": null,
   "metadata": {},
   "outputs": [],
   "source": []
  }
 ],
 "metadata": {
  "kernelspec": {
   "display_name": "Python 3",
   "language": "python",
   "name": "python3"
  },
  "language_info": {
   "codemirror_mode": {
    "name": "ipython",
    "version": 3
   },
   "file_extension": ".py",
   "mimetype": "text/x-python",
   "name": "python",
   "nbconvert_exporter": "python",
   "pygments_lexer": "ipython3",
   "version": "3.7.4"
  }
 },
 "nbformat": 4,
 "nbformat_minor": 2
}
